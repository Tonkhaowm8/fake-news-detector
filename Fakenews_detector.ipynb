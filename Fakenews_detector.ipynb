{
  "cells": [
    {
      "cell_type": "markdown",
      "metadata": {
        "id": "GmrAqmtSHIOM"
      },
      "source": [
        "\n",
        "# Combine All Datasets\n",
        "\n"
      ]
    },
    {
      "cell_type": "code",
      "execution_count": null,
      "metadata": {},
      "outputs": [],
      "source": [
        "import os\n",
        "import pandas as pd"
      ]
    },
    {
      "cell_type": "code",
      "execution_count": null,
      "metadata": {
        "id": "pTLi66ruHV7Q"
      },
      "outputs": [],
      "source": [
        "file_path = os.path.join(\"csvs\", \"combined.csv\")\n",
        "if os.path.exists(file_path):\n",
        "    combineDatasets()"
      ]
    },
    {
      "cell_type": "markdown",
      "metadata": {},
      "source": [
        "Combine Dataset"
      ]
    },
    {
      "cell_type": "code",
      "execution_count": null,
      "metadata": {},
      "outputs": [],
      "source": [
        "def combineDatasets():\n",
        "    news_articles = pd.read_csv(os.path.join(\"csvs\", \"news_articles.csv\"))\n",
        "    "
      ]
    },
    {
      "cell_type": "markdown",
      "metadata": {
        "id": "7Tb83sLfPIOj"
      },
      "source": [
        "# Clean dataset"
      ]
    },
    {
      "cell_type": "code",
      "execution_count": 3,
      "metadata": {
        "id": "3cVfReWN5Ive"
      },
      "outputs": [],
      "source": [
        "import pandas as pd #use pandas to read dataset\n",
        "import os"
      ]
    },
    {
      "cell_type": "code",
      "execution_count": 4,
      "metadata": {
        "id": "w7JLBAz8Ju5N"
      },
      "outputs": [],
      "source": [
        "data = pd.read_csv(os.path.join(\"csvs\", \"news_articles.csv\"))"
      ]
    },
    {
      "cell_type": "code",
      "execution_count": 5,
      "metadata": {
        "colab": {
          "base_uri": "https://localhost:8080/",
          "height": 588
        },
        "id": "UvVVxooxKJBr",
        "outputId": "c6ffa4e5-a6b0-490c-8c43-8b572e6665ad"
      },
      "outputs": [
        {
          "data": {
            "text/html": [
              "<div>\n",
              "<style scoped>\n",
              "    .dataframe tbody tr th:only-of-type {\n",
              "        vertical-align: middle;\n",
              "    }\n",
              "\n",
              "    .dataframe tbody tr th {\n",
              "        vertical-align: top;\n",
              "    }\n",
              "\n",
              "    .dataframe thead th {\n",
              "        text-align: right;\n",
              "    }\n",
              "</style>\n",
              "<table border=\"1\" class=\"dataframe\">\n",
              "  <thead>\n",
              "    <tr style=\"text-align: right;\">\n",
              "      <th></th>\n",
              "      <th>author</th>\n",
              "      <th>published</th>\n",
              "      <th>title</th>\n",
              "      <th>text</th>\n",
              "      <th>language</th>\n",
              "      <th>site_url</th>\n",
              "      <th>main_img_url</th>\n",
              "      <th>type</th>\n",
              "      <th>label</th>\n",
              "      <th>title_without_stopwords</th>\n",
              "      <th>text_without_stopwords</th>\n",
              "      <th>hasImage</th>\n",
              "    </tr>\n",
              "  </thead>\n",
              "  <tbody>\n",
              "    <tr>\n",
              "      <th>0</th>\n",
              "      <td>Barracuda Brigade</td>\n",
              "      <td>2016-10-26T21:41:00.000+03:00</td>\n",
              "      <td>muslims busted they stole millions in govt ben...</td>\n",
              "      <td>print they should pay all the back all the mon...</td>\n",
              "      <td>english</td>\n",
              "      <td>100percentfedup.com</td>\n",
              "      <td>http://bb4sp.com/wp-content/uploads/2016/10/Fu...</td>\n",
              "      <td>bias</td>\n",
              "      <td>Real</td>\n",
              "      <td>muslims busted stole millions govt benefits</td>\n",
              "      <td>print pay back money plus interest entire fami...</td>\n",
              "      <td>1.0</td>\n",
              "    </tr>\n",
              "    <tr>\n",
              "      <th>1</th>\n",
              "      <td>reasoning with facts</td>\n",
              "      <td>2016-10-29T08:47:11.259+03:00</td>\n",
              "      <td>re why did attorney general loretta lynch plea...</td>\n",
              "      <td>why did attorney general loretta lynch plead t...</td>\n",
              "      <td>english</td>\n",
              "      <td>100percentfedup.com</td>\n",
              "      <td>http://bb4sp.com/wp-content/uploads/2016/10/Fu...</td>\n",
              "      <td>bias</td>\n",
              "      <td>Real</td>\n",
              "      <td>attorney general loretta lynch plead fifth</td>\n",
              "      <td>attorney general loretta lynch plead fifth bar...</td>\n",
              "      <td>1.0</td>\n",
              "    </tr>\n",
              "    <tr>\n",
              "      <th>2</th>\n",
              "      <td>Barracuda Brigade</td>\n",
              "      <td>2016-10-31T01:41:49.479+02:00</td>\n",
              "      <td>breaking weiner cooperating with fbi on hillar...</td>\n",
              "      <td>red state  \\nfox news sunday reported this mor...</td>\n",
              "      <td>english</td>\n",
              "      <td>100percentfedup.com</td>\n",
              "      <td>http://bb4sp.com/wp-content/uploads/2016/10/Fu...</td>\n",
              "      <td>bias</td>\n",
              "      <td>Real</td>\n",
              "      <td>breaking weiner cooperating fbi hillary email ...</td>\n",
              "      <td>red state fox news sunday reported morning ant...</td>\n",
              "      <td>1.0</td>\n",
              "    </tr>\n",
              "    <tr>\n",
              "      <th>3</th>\n",
              "      <td>Fed Up</td>\n",
              "      <td>2016-11-01T05:22:00.000+02:00</td>\n",
              "      <td>pin drop speech by father of daughter kidnappe...</td>\n",
              "      <td>email kayla mueller was a prisoner and torture...</td>\n",
              "      <td>english</td>\n",
              "      <td>100percentfedup.com</td>\n",
              "      <td>http://100percentfedup.com/wp-content/uploads/...</td>\n",
              "      <td>bias</td>\n",
              "      <td>Real</td>\n",
              "      <td>pin drop speech father daughter kidnapped kill...</td>\n",
              "      <td>email kayla mueller prisoner tortured isis cha...</td>\n",
              "      <td>1.0</td>\n",
              "    </tr>\n",
              "    <tr>\n",
              "      <th>4</th>\n",
              "      <td>Fed Up</td>\n",
              "      <td>2016-11-01T21:56:00.000+02:00</td>\n",
              "      <td>fantastic trumps  point plan to reform healthc...</td>\n",
              "      <td>email healthcare reform to make america great ...</td>\n",
              "      <td>english</td>\n",
              "      <td>100percentfedup.com</td>\n",
              "      <td>http://100percentfedup.com/wp-content/uploads/...</td>\n",
              "      <td>bias</td>\n",
              "      <td>Real</td>\n",
              "      <td>fantastic trumps point plan reform healthcare ...</td>\n",
              "      <td>email healthcare reform make america great sin...</td>\n",
              "      <td>1.0</td>\n",
              "    </tr>\n",
              "  </tbody>\n",
              "</table>\n",
              "</div>"
            ],
            "text/plain": [
              "                 author                      published  \\\n",
              "0     Barracuda Brigade  2016-10-26T21:41:00.000+03:00   \n",
              "1  reasoning with facts  2016-10-29T08:47:11.259+03:00   \n",
              "2     Barracuda Brigade  2016-10-31T01:41:49.479+02:00   \n",
              "3                Fed Up  2016-11-01T05:22:00.000+02:00   \n",
              "4                Fed Up  2016-11-01T21:56:00.000+02:00   \n",
              "\n",
              "                                               title  \\\n",
              "0  muslims busted they stole millions in govt ben...   \n",
              "1  re why did attorney general loretta lynch plea...   \n",
              "2  breaking weiner cooperating with fbi on hillar...   \n",
              "3  pin drop speech by father of daughter kidnappe...   \n",
              "4  fantastic trumps  point plan to reform healthc...   \n",
              "\n",
              "                                                text language  \\\n",
              "0  print they should pay all the back all the mon...  english   \n",
              "1  why did attorney general loretta lynch plead t...  english   \n",
              "2  red state  \\nfox news sunday reported this mor...  english   \n",
              "3  email kayla mueller was a prisoner and torture...  english   \n",
              "4  email healthcare reform to make america great ...  english   \n",
              "\n",
              "              site_url                                       main_img_url  \\\n",
              "0  100percentfedup.com  http://bb4sp.com/wp-content/uploads/2016/10/Fu...   \n",
              "1  100percentfedup.com  http://bb4sp.com/wp-content/uploads/2016/10/Fu...   \n",
              "2  100percentfedup.com  http://bb4sp.com/wp-content/uploads/2016/10/Fu...   \n",
              "3  100percentfedup.com  http://100percentfedup.com/wp-content/uploads/...   \n",
              "4  100percentfedup.com  http://100percentfedup.com/wp-content/uploads/...   \n",
              "\n",
              "   type label                            title_without_stopwords  \\\n",
              "0  bias  Real        muslims busted stole millions govt benefits   \n",
              "1  bias  Real         attorney general loretta lynch plead fifth   \n",
              "2  bias  Real  breaking weiner cooperating fbi hillary email ...   \n",
              "3  bias  Real  pin drop speech father daughter kidnapped kill...   \n",
              "4  bias  Real  fantastic trumps point plan reform healthcare ...   \n",
              "\n",
              "                              text_without_stopwords  hasImage  \n",
              "0  print pay back money plus interest entire fami...       1.0  \n",
              "1  attorney general loretta lynch plead fifth bar...       1.0  \n",
              "2  red state fox news sunday reported morning ant...       1.0  \n",
              "3  email kayla mueller prisoner tortured isis cha...       1.0  \n",
              "4  email healthcare reform make america great sin...       1.0  "
            ]
          },
          "execution_count": 5,
          "metadata": {},
          "output_type": "execute_result"
        }
      ],
      "source": [
        "#display shape and dimension\n",
        "data.head() #displayy the first 5 rows of datasets"
      ]
    },
    {
      "cell_type": "code",
      "execution_count": 6,
      "metadata": {
        "colab": {
          "base_uri": "https://localhost:8080/",
          "height": 417
        },
        "id": "lS6rc2aDLEa_",
        "outputId": "35db3c30-c8d8-437f-a954-99525253715b"
      },
      "outputs": [
        {
          "data": {
            "text/html": [
              "<div>\n",
              "<style scoped>\n",
              "    .dataframe tbody tr th:only-of-type {\n",
              "        vertical-align: middle;\n",
              "    }\n",
              "\n",
              "    .dataframe tbody tr th {\n",
              "        vertical-align: top;\n",
              "    }\n",
              "\n",
              "    .dataframe thead th {\n",
              "        text-align: right;\n",
              "    }\n",
              "</style>\n",
              "<table border=\"1\" class=\"dataframe\">\n",
              "  <thead>\n",
              "    <tr style=\"text-align: right;\">\n",
              "      <th></th>\n",
              "      <th>author</th>\n",
              "      <th>published</th>\n",
              "      <th>title</th>\n",
              "      <th>text</th>\n",
              "      <th>language</th>\n",
              "      <th>site_url</th>\n",
              "      <th>main_img_url</th>\n",
              "      <th>type</th>\n",
              "      <th>label</th>\n",
              "      <th>title_without_stopwords</th>\n",
              "      <th>text_without_stopwords</th>\n",
              "      <th>hasImage</th>\n",
              "    </tr>\n",
              "  </thead>\n",
              "  <tbody>\n",
              "    <tr>\n",
              "      <th>2091</th>\n",
              "      <td>-NO AUTHOR-</td>\n",
              "      <td>2016-10-27T15:36:10.573+03:00</td>\n",
              "      <td>teens walk free after gangrape conviction</td>\n",
              "      <td>NaN</td>\n",
              "      <td>english</td>\n",
              "      <td>wnd.com</td>\n",
              "      <td>http://www.wnd.com/files/2016/10/hillary_haunt...</td>\n",
              "      <td>bias</td>\n",
              "      <td>Real</td>\n",
              "      <td>good samaritan wearing indian headdress disarm...</td>\n",
              "      <td>NaN</td>\n",
              "      <td>1.0</td>\n",
              "    </tr>\n",
              "    <tr>\n",
              "      <th>2092</th>\n",
              "      <td>-NO AUTHOR-</td>\n",
              "      <td>2016-10-27T15:36:10.671+03:00</td>\n",
              "      <td>school named for munichmassacre mastermind</td>\n",
              "      <td>NaN</td>\n",
              "      <td>english</td>\n",
              "      <td>wnd.com</td>\n",
              "      <td>http://www.wnd.com/files/2016/10/rambo_richard...</td>\n",
              "      <td>bias</td>\n",
              "      <td>Real</td>\n",
              "      <td>skype sex scam fortune built shame</td>\n",
              "      <td>NaN</td>\n",
              "      <td>1.0</td>\n",
              "    </tr>\n",
              "    <tr>\n",
              "      <th>2093</th>\n",
              "      <td>-NO AUTHOR-</td>\n",
              "      <td>2016-10-27T13:30:00.000+03:00</td>\n",
              "      <td>russia unveils satan  missile</td>\n",
              "      <td>NaN</td>\n",
              "      <td>english</td>\n",
              "      <td>wnd.com</td>\n",
              "      <td>http://www.wnd.com/files/2016/10/skype_sex_sca...</td>\n",
              "      <td>bs</td>\n",
              "      <td>Fake</td>\n",
              "      <td>cannabis aficionados develop thca crystalline ...</td>\n",
              "      <td>NaN</td>\n",
              "      <td>1.0</td>\n",
              "    </tr>\n",
              "    <tr>\n",
              "      <th>2094</th>\n",
              "      <td>-NO AUTHOR-</td>\n",
              "      <td>2016-10-27T15:58:41.935+03:00</td>\n",
              "      <td>check out hillarythemed haunted house</td>\n",
              "      <td>NaN</td>\n",
              "      <td>english</td>\n",
              "      <td>wnd.com</td>\n",
              "      <td>http://worldtruth.tv/wp-content/uploads/2016/1...</td>\n",
              "      <td>bs</td>\n",
              "      <td>Fake</td>\n",
              "      <td>title</td>\n",
              "      <td>NaN</td>\n",
              "      <td>0.0</td>\n",
              "    </tr>\n",
              "    <tr>\n",
              "      <th>2095</th>\n",
              "      <td>Eddy Lavine</td>\n",
              "      <td>2016-10-28T01:02:00.000+03:00</td>\n",
              "      <td>cannabis aficionados develop thca crystalline ...</td>\n",
              "      <td>NaN</td>\n",
              "      <td>NaN</td>\n",
              "      <td>NaN</td>\n",
              "      <td>NaN</td>\n",
              "      <td>NaN</td>\n",
              "      <td>NaN</td>\n",
              "      <td>NaN</td>\n",
              "      <td>NaN</td>\n",
              "      <td>NaN</td>\n",
              "    </tr>\n",
              "  </tbody>\n",
              "</table>\n",
              "</div>"
            ],
            "text/plain": [
              "           author                      published  \\\n",
              "2091  -NO AUTHOR-  2016-10-27T15:36:10.573+03:00   \n",
              "2092  -NO AUTHOR-  2016-10-27T15:36:10.671+03:00   \n",
              "2093  -NO AUTHOR-  2016-10-27T13:30:00.000+03:00   \n",
              "2094  -NO AUTHOR-  2016-10-27T15:58:41.935+03:00   \n",
              "2095  Eddy Lavine  2016-10-28T01:02:00.000+03:00   \n",
              "\n",
              "                                                  title text language  \\\n",
              "2091          teens walk free after gangrape conviction  NaN  english   \n",
              "2092         school named for munichmassacre mastermind  NaN  english   \n",
              "2093                      russia unveils satan  missile  NaN  english   \n",
              "2094              check out hillarythemed haunted house  NaN  english   \n",
              "2095  cannabis aficionados develop thca crystalline ...  NaN      NaN   \n",
              "\n",
              "     site_url                                       main_img_url  type label  \\\n",
              "2091  wnd.com  http://www.wnd.com/files/2016/10/hillary_haunt...  bias  Real   \n",
              "2092  wnd.com  http://www.wnd.com/files/2016/10/rambo_richard...  bias  Real   \n",
              "2093  wnd.com  http://www.wnd.com/files/2016/10/skype_sex_sca...    bs  Fake   \n",
              "2094  wnd.com  http://worldtruth.tv/wp-content/uploads/2016/1...    bs  Fake   \n",
              "2095      NaN                                                NaN   NaN   NaN   \n",
              "\n",
              "                                title_without_stopwords  \\\n",
              "2091  good samaritan wearing indian headdress disarm...   \n",
              "2092                 skype sex scam fortune built shame   \n",
              "2093  cannabis aficionados develop thca crystalline ...   \n",
              "2094                                              title   \n",
              "2095                                                NaN   \n",
              "\n",
              "     text_without_stopwords  hasImage  \n",
              "2091                    NaN       1.0  \n",
              "2092                    NaN       1.0  \n",
              "2093                    NaN       1.0  \n",
              "2094                    NaN       0.0  \n",
              "2095                    NaN       NaN  "
            ]
          },
          "execution_count": 6,
          "metadata": {},
          "output_type": "execute_result"
        }
      ],
      "source": [
        "#display last 5 rows of dataset\n",
        "data.tail()"
      ]
    },
    {
      "cell_type": "code",
      "execution_count": 7,
      "metadata": {
        "colab": {
          "base_uri": "https://localhost:8080/"
        },
        "id": "G15w4UtELOjl",
        "outputId": "7460a30b-016b-48f7-d859-8f415c586acc"
      },
      "outputs": [
        {
          "name": "stdout",
          "output_type": "stream",
          "text": [
            "<class 'pandas.core.frame.DataFrame'>\n",
            "RangeIndex: 2096 entries, 0 to 2095\n",
            "Data columns (total 12 columns):\n",
            " #   Column                   Non-Null Count  Dtype  \n",
            "---  ------                   --------------  -----  \n",
            " 0   author                   2096 non-null   object \n",
            " 1   published                2096 non-null   object \n",
            " 2   title                    2096 non-null   object \n",
            " 3   text                     2050 non-null   object \n",
            " 4   language                 2095 non-null   object \n",
            " 5   site_url                 2095 non-null   object \n",
            " 6   main_img_url             2095 non-null   object \n",
            " 7   type                     2095 non-null   object \n",
            " 8   label                    2095 non-null   object \n",
            " 9   title_without_stopwords  2094 non-null   object \n",
            " 10  text_without_stopwords   2046 non-null   object \n",
            " 11  hasImage                 2095 non-null   float64\n",
            "dtypes: float64(1), object(11)\n",
            "memory usage: 196.6+ KB\n"
          ]
        }
      ],
      "source": [
        "data.info()"
      ]
    },
    {
      "cell_type": "code",
      "execution_count": 8,
      "metadata": {
        "colab": {
          "base_uri": "https://localhost:8080/"
        },
        "id": "ivq4XDFALc-N",
        "outputId": "e3168faf-c960-409d-c098-eb37517ebd18"
      },
      "outputs": [
        {
          "data": {
            "text/plain": [
              "(2096, 12)"
            ]
          },
          "execution_count": 8,
          "metadata": {},
          "output_type": "execute_result"
        }
      ],
      "source": [
        "#find out how many row and columns\n",
        "data.shape\n"
      ]
    },
    {
      "cell_type": "code",
      "execution_count": 9,
      "metadata": {
        "colab": {
          "base_uri": "https://localhost:8080/"
        },
        "id": "C0NC_wLGLksP",
        "outputId": "d6c2ea6d-d9b3-44b8-9d03-38c83c4287e7"
      },
      "outputs": [
        {
          "data": {
            "text/plain": [
              "Index(['author', 'published', 'title', 'text', 'language', 'site_url',\n",
              "       'main_img_url', 'type', 'label', 'title_without_stopwords',\n",
              "       'text_without_stopwords', 'hasImage'],\n",
              "      dtype='object')"
            ]
          },
          "execution_count": 9,
          "metadata": {},
          "output_type": "execute_result"
        }
      ],
      "source": [
        "data.columns #display all columns"
      ]
    },
    {
      "cell_type": "code",
      "execution_count": 10,
      "metadata": {
        "colab": {
          "base_uri": "https://localhost:8080/"
        },
        "id": "yaa-oXBxLrvt",
        "outputId": "0d1b0753-1139-4538-e3db-08288c38be7f"
      },
      "outputs": [
        {
          "data": {
            "text/plain": [
              "author                      object\n",
              "published                   object\n",
              "title                       object\n",
              "text                        object\n",
              "language                    object\n",
              "site_url                    object\n",
              "main_img_url                object\n",
              "type                        object\n",
              "label                       object\n",
              "title_without_stopwords     object\n",
              "text_without_stopwords      object\n",
              "hasImage                   float64\n",
              "dtype: object"
            ]
          },
          "execution_count": 10,
          "metadata": {},
          "output_type": "execute_result"
        }
      ],
      "source": [
        "#display datatype each columns\n",
        "data.dtypes"
      ]
    },
    {
      "cell_type": "code",
      "execution_count": 11,
      "metadata": {
        "colab": {
          "base_uri": "https://localhost:8080/"
        },
        "id": "cy4y0x85MPKO",
        "outputId": "b7451e32-dd30-4637-9655-0fe12d52192d"
      },
      "outputs": [
        {
          "name": "stdout",
          "output_type": "stream",
          "text": [
            "Row with Missing Values:\n",
            "0       False\n",
            "1       False\n",
            "2       False\n",
            "3       False\n",
            "4       False\n",
            "        ...  \n",
            "2091     True\n",
            "2092     True\n",
            "2093     True\n",
            "2094     True\n",
            "2095     True\n",
            "Length: 2096, dtype: bool\n"
          ]
        }
      ],
      "source": [
        "##clean dataset\n",
        "#check missing value and remove it\n",
        "#remove duplicate data\n",
        "missing_values_rows = data.isnull().any(axis=1) #check row has missing value or not, if it's has then return true\n",
        "print(\"Row with Missing Values:\")\n",
        "print(missing_values_rows) #print all row that has missing values , True= row with missing value"
      ]
    },
    {
      "cell_type": "code",
      "execution_count": 12,
      "metadata": {
        "colab": {
          "base_uri": "https://localhost:8080/"
        },
        "id": "AUO_V4pKM02D",
        "outputId": "f10f0128-8381-409e-fb41-4ca0fe9cff74"
      },
      "outputs": [
        {
          "name": "stdout",
          "output_type": "stream",
          "text": [
            "Duplicated Rows:\n",
            "        author                      published     title  \\\n",
            "66   Anonymous  2016-10-26T22:35:00.000+03:00  no title   \n",
            "67   Anonymous  2016-10-26T22:19:00.000+03:00  no title   \n",
            "74   Anonymous  2016-10-27T21:50:00.000+03:00  no title   \n",
            "76   Anonymous  2016-10-27T21:50:00.000+03:00  no title   \n",
            "96   Anonymous  2016-10-29T22:36:00.000+03:00  no title   \n",
            "102  Anonymous  2016-10-29T22:36:00.000+03:00  no title   \n",
            "103  Anonymous  2016-10-29T22:25:00.000+03:00  no title   \n",
            "114  Anonymous  2016-10-31T01:50:00.000+02:00  no title   \n",
            "116  Anonymous  2016-10-30T10:17:00.000+02:00  no title   \n",
            "118  Anonymous  2016-10-30T10:17:00.000+02:00  no title   \n",
            "\n",
            "                                                  text language  \\\n",
            "66   trump has an excuse now to audit any vote with...  english   \n",
            "67   he has got to go after him  he is the one caus...  english   \n",
            "74   georg soros the good oil  httpmailstarnetsoros...  english   \n",
            "76   georg soros the good oil  httpmailstarnetsoros...  english   \n",
            "96   the second video bottom one  proves what trump...  english   \n",
            "102  the second video bottom one  proves what trump...  english   \n",
            "103                                          brilliant  english   \n",
            "114  same people all the time  i dont know how you ...  english   \n",
            "116  there is the guy who can leaf trump to the whi...  english   \n",
            "118  there is the guy who can leaf trump to the whi...  english   \n",
            "\n",
            "           site_url  main_img_url type label title_without_stopwords  \\\n",
            "66   abeldanger.net  No Image URL   bs  Fake                   title   \n",
            "67   abeldanger.net  No Image URL   bs  Fake                   title   \n",
            "74   abeldanger.net  No Image URL   bs  Fake                   title   \n",
            "76   abeldanger.net  No Image URL   bs  Fake                   title   \n",
            "96   abeldanger.net  No Image URL   bs  Fake                   title   \n",
            "102  abeldanger.net  No Image URL   bs  Fake                   title   \n",
            "103  abeldanger.net  No Image URL   bs  Fake                   title   \n",
            "114  abeldanger.net  No Image URL   bs  Fake                   title   \n",
            "116  abeldanger.net  No Image URL   bs  Fake                   title   \n",
            "118  abeldanger.net  No Image URL   bs  Fake                   title   \n",
            "\n",
            "                                text_without_stopwords  hasImage  \n",
            "66   trump excuse audit vote machines trust un invo...       0.0  \n",
            "67   got go one causing al trouble around worl proo...       0.0  \n",
            "74   georg soros good oil httpmailstarnetsoroshtml ...       0.0  \n",
            "76   georg soros good oil httpmailstarnetsoroshtml ...       0.0  \n",
            "96   second video bottom one proves trump sayng tru...       0.0  \n",
            "102  second video bottom one proves trump sayng tru...       0.0  \n",
            "103                                          brilliant       0.0  \n",
            "114  people time dont know fix corruption httpwwwfr...       0.0  \n",
            "116  guy leaf trump whitehouse imagine shock everyt...       0.0  \n",
            "118  guy leaf trump whitehouse imagine shock everyt...       0.0  \n"
          ]
        }
      ],
      "source": [
        "#check duplicate dattaset\n",
        "duplicate_rows = data[data.duplicated()]\n",
        "print(\"Duplicated Rows:\")\n",
        "print(duplicate_rows)"
      ]
    },
    {
      "cell_type": "code",
      "execution_count": 13,
      "metadata": {
        "id": "xBtOc7GvNQJT"
      },
      "outputs": [],
      "source": [
        "#clean the data\n",
        "data.dropna(axis=0, inplace=True)#remove missising value"
      ]
    },
    {
      "cell_type": "code",
      "execution_count": 14,
      "metadata": {
        "id": "v3vx7mQGNjqH"
      },
      "outputs": [],
      "source": [
        "data.drop_duplicates(inplace=True)#remove duplicate data"
      ]
    },
    {
      "cell_type": "code",
      "execution_count": 15,
      "metadata": {
        "id": "l48R4VSIN34A"
      },
      "outputs": [],
      "source": [
        "#save the dataset that's we have clean\n",
        "data.to_csv(\"cleaned_dataset.csv\", index=False)"
      ]
    },
    {
      "cell_type": "code",
      "execution_count": 16,
      "metadata": {
        "colab": {
          "base_uri": "https://localhost:8080/",
          "height": 34
        },
        "id": "rfJgyGXIOG45",
        "outputId": "a2d50a1a-5e69-404a-85df-678a28f21ce4"
      },
      "outputs": [],
      "source": [
        "file_path = \"cleaned_dataset.csv\""
      ]
    },
    {
      "cell_type": "markdown",
      "metadata": {
        "id": "O_tBbP9iU5kP"
      },
      "source": [
        "#News Source Credibility Analysis , Calculate News sources credibility"
      ]
    },
    {
      "cell_type": "markdown",
      "metadata": {
        "id": "8tvrXimroKFB"
      },
      "source": [
        "count the number of reaal and fake articles for each source"
      ]
    },
    {
      "cell_type": "code",
      "execution_count": 17,
      "metadata": {
        "id": "pU0nXwVxP2cz"
      },
      "outputs": [],
      "source": [
        "source_count =   data.groupby([\"site_url\",\"label\"]).size().unstack(fill_value=0)\n"
      ]
    },
    {
      "cell_type": "markdown",
      "metadata": {
        "id": "skYgqyHjoSBS"
      },
      "source": [
        "Calculate % of real news and fake news"
      ]
    },
    {
      "cell_type": "code",
      "execution_count": 18,
      "metadata": {
        "id": "K0VmEJEqQj67"
      },
      "outputs": [],
      "source": [
        "# Real News\n",
        "source_count[\"Percentage Real (%)\"] = (source_count[\"Real\"]/(source_count[\"Real\"]+source_count[\"Fake\"])) * 100\n",
        "\n",
        "# Fake News\n",
        "source_count[\"Percentage Fake (%)\"] = (source_count[\"Fake\"]/(source_count[\"Real\"]+source_count[\"Fake\"])) * 100"
      ]
    },
    {
      "cell_type": "markdown",
      "metadata": {
        "id": "6d--Te3kocCi"
      },
      "source": [
        "Sort Credibility based on the %"
      ]
    },
    {
      "cell_type": "code",
      "execution_count": 19,
      "metadata": {
        "id": "mCAGr4lARepx"
      },
      "outputs": [],
      "source": [
        "sorted_sources = source_count.sort_values(by=\"Percentage Real (%)\", ascending = False)"
      ]
    },
    {
      "cell_type": "markdown",
      "metadata": {
        "id": "Q5vRRNg7oiXf"
      },
      "source": [
        "Print top 10 news stats"
      ]
    },
    {
      "cell_type": "code",
      "execution_count": 20,
      "metadata": {
        "colab": {
          "base_uri": "https://localhost:8080/"
        },
        "id": "nXmjJXYDSS7S",
        "outputId": "e3d48863-a3f6-4fb0-bcb4-f00eddc6c902"
      },
      "outputs": [
        {
          "name": "stdout",
          "output_type": "stream",
          "text": [
            "Top 10 Most Credible News Sources:\n",
            "News 100percentfedup.com, fake news = 0.0%\n",
            "News dailywire.com, fake news = 0.0%\n",
            "News whydontyoutrythis.com, fake news = 0.0%\n",
            "News redstatewatcher.com, fake news = 0.0%\n",
            "News proudemocrat.com, fake news = 0.0%\n",
            "News presstv.com, fake news = 0.0%\n",
            "News politicususa.com, fake news = 0.0%\n",
            "News wnd.com, fake news = 0.0%\n",
            "News addictinginfo.org, fake news = 0.0%\n",
            "News returnofkings.com, fake news = 1.0%\n",
            "\n",
            "Top 10 Least Credible News Sources:\n",
            "News defenddemocracy.press, fake news = 100.0%\n",
            "News dennismichaellynch.com, fake news = 100.0%\n",
            "News departed.co, fake news = 100.0%\n",
            "News der-postillon.com, fake news = 100.0%\n",
            "News galacticconnection.com, fake news = 100.0%\n",
            "News 21stcenturywire.com, fake news = 100.0%\n",
            "News infowars.com, fake news = 100.0%\n",
            "News intrepidreport.com, fake news = 100.0%\n",
            "News legorafi.fr, fake news = 100.0%\n",
            "News globalresearch.ca, fake news = 100.0%\n"
          ]
        }
      ],
      "source": [
        "print(\"Top 10 Most Credible News Sources:\")\n",
        "for source, row in sorted_sources.head(10).iterrows():\n",
        "  print(f\"News {source}, fake news = {row['Percentage Fake (%)']:.1f}%\")\n",
        "\n",
        "print(\"\\nTop 10 Least Credible News Sources:\")\n",
        "for source, row in sorted_sources.tail(10).iterrows():\n",
        "  print(f\"News {source}, fake news = {row['Percentage Fake (%)']:.1f}%\")\n",
        "\n",
        "#ยิ่ง percent เยอะ จะเข้าข่ายfakenews"
      ]
    },
    {
      "cell_type": "markdown",
      "metadata": {
        "id": "6K58nCcaVZQR"
      },
      "source": [
        "# Detecting Keywords Associated with Fake News"
      ]
    },
    {
      "cell_type": "code",
      "execution_count": 21,
      "metadata": {
        "id": "PobTBW0hTWzo"
      },
      "outputs": [],
      "source": [
        "import nltk\n",
        "from nltk.tokenize import word_tokenize  #nltl = natural language tool kit\n",
        "from nltk.corpus import stopwords\n",
        "from collections import Counter"
      ]
    },
    {
      "cell_type": "markdown",
      "metadata": {
        "id": "618umqDZp14a"
      },
      "source": [
        "Identify Most Frequent Keyword"
      ]
    },
    {
      "cell_type": "code",
      "execution_count": 22,
      "metadata": {
        "colab": {
          "base_uri": "https://localhost:8080/"
        },
        "id": "LE05Y6FJVbNz",
        "outputId": "705aec1b-0f0e-44af-e286-17f706981555"
      },
      "outputs": [
        {
          "name": "stderr",
          "output_type": "stream",
          "text": [
            "[nltk_data] Downloading package stopwords to\n",
            "[nltk_data]     C:\\Users\\Tonkhaow\\AppData\\Roaming\\nltk_data...\n",
            "[nltk_data]   Package stopwords is already up-to-date!\n",
            "[nltk_data] Downloading package punkt to\n",
            "[nltk_data]     C:\\Users\\Tonkhaow\\AppData\\Roaming\\nltk_data...\n",
            "[nltk_data]   Package punkt is already up-to-date!\n"
          ]
        }
      ],
      "source": [
        "nltk.download(\"stopwords\")\n",
        "nltk.download(\"punkt\")\n",
        "stop_words = set(stopwords.words(\"english\"))"
      ]
    },
    {
      "cell_type": "markdown",
      "metadata": {
        "id": "xZZl33Oap5Ld"
      },
      "source": [
        "Count Occurrences of titles and text"
      ]
    },
    {
      "cell_type": "code",
      "execution_count": 23,
      "metadata": {
        "id": "RyN91As6jZXE"
      },
      "outputs": [],
      "source": [
        "title_counter = Counter()\n",
        "text_counter = Counter()\n",
        "for index, row in data.iterrows():\n",
        "  # tokenize text - splits text into words\n",
        "  title_words = word_tokenize(row[\"title\"])\n",
        "  text_words = word_tokenize(row[\"text\"])\n",
        "  # Filter out non-alphabetic words and stopwords from the title and text, change words to lowercase\n",
        "  title_words = [word.lower() for word in title_words if word.isalpha() and word.lower() not in stop_words]\n",
        "  text_words = [word.lower() for word in title_words if word.isalpha() and word.lower() not in stop_words]\n",
        "\n",
        "  # Check if the label of the current row is \"Fake\"\n",
        "  if row[\"label\"] == \"Fake\":\n",
        "    # Update the title_counter and text_counter with the fake title_words and text_words\n",
        "    title_counter.update(title_words)\n",
        "    text_counter.update(text_words)\n",
        "top_keywords_title = title_counter.most_common(5)\n",
        "top_keywords_text = text_counter.most_common(5)"
      ]
    },
    {
      "cell_type": "markdown",
      "metadata": {
        "id": "7AYjZJhGqS1s"
      },
      "source": [
        "Print Top Keywords that is assiciated with Fake News"
      ]
    },
    {
      "cell_type": "code",
      "execution_count": 24,
      "metadata": {
        "colab": {
          "base_uri": "https://localhost:8080/"
        },
        "id": "ZHYTxZMQkIbA",
        "outputId": "22a3b3fe-86b9-4885-ebc0-ce65006753bf"
      },
      "outputs": [
        {
          "name": "stdout",
          "output_type": "stream",
          "text": [
            "Top 5 Keywords Associated with Fake News Titles:\n",
            "trump: 135 times\n",
            "hillary: 129 times\n",
            "clinton: 121 times\n",
            "title: 91 times\n",
            "us: 59 times\n",
            "\n",
            "Top 5 Keywords Associated with Fake News Texts:\n",
            "trump: 135 times\n",
            "hillary: 129 times\n",
            "clinton: 121 times\n",
            "title: 91 times\n",
            "us: 59 times\n"
          ]
        }
      ],
      "source": [
        "print(\"Top 5 Keywords Associated with Fake News Titles:\")\n",
        "for keyword, count in top_keywords_title:\n",
        "  print(f\"{keyword}: {count} times\")\n",
        "print(\"\\nTop 5 Keywords Associated with Fake News Texts:\")\n",
        "for keyword, count in top_keywords_text:\n",
        "  print(f\"{keyword}: {count} times\")"
      ]
    },
    {
      "cell_type": "markdown",
      "metadata": {
        "id": "qGBZkOhqkWsO"
      },
      "source": [
        "# News Title and text length analysis"
      ]
    },
    {
      "cell_type": "code",
      "execution_count": 25,
      "metadata": {
        "id": "rhWX1d-Tkey0"
      },
      "outputs": [],
      "source": [
        "import pandas as pd\n",
        "import matplotlib.pyplot as plt"
      ]
    },
    {
      "cell_type": "code",
      "execution_count": 26,
      "metadata": {
        "id": "OPBIXa6Fkwlq"
      },
      "outputs": [],
      "source": [
        "data[\"title_length\"] = data[\"title\"].apply(len)\n",
        "data[\"text_length\"] = data[\"text\"].apply(len)"
      ]
    },
    {
      "cell_type": "code",
      "execution_count": 27,
      "metadata": {
        "id": "hcPf0BuLk3xf"
      },
      "outputs": [],
      "source": [
        "real_news = data[data[\"label\"]==\"Real\"]\n",
        "fake_news = data[data[\"label\"]==\"Fake\"]"
      ]
    },
    {
      "cell_type": "code",
      "execution_count": 28,
      "metadata": {
        "id": "rd5Qm0Htk9Kx"
      },
      "outputs": [],
      "source": [
        "avg_real_title_length = real_news[\"title_length\"].mean()\n",
        "avg_fake_title_length = fake_news[\"title_length\"].mean()\n",
        "avg_real_text_length = real_news[\"text_length\"].mean()\n",
        "avg_fake_text_length = fake_news[\"text_length\"].mean()"
      ]
    },
    {
      "cell_type": "code",
      "execution_count": 29,
      "metadata": {
        "colab": {
          "base_uri": "https://localhost:8080/"
        },
        "id": "ZcyY4e45k_p0",
        "outputId": "35c6fa55-2a77-47ad-b0ec-07f12cd082e6"
      },
      "outputs": [
        {
          "name": "stdout",
          "output_type": "stream",
          "text": [
            "Average Title Length for Real News: 56.67 characters\n",
            "Average Title Length for Fake News: 65.07 characters\n",
            "Average Text Length for Real News: 3209.14 characters\n",
            "Average Text Length for Fake News: 2843.22 characters\n"
          ]
        }
      ],
      "source": [
        "print(f\"Average Title Length for Real News: {avg_real_title_length:.2f} characters\")\n",
        "print(f\"Average Title Length for Fake News: {avg_fake_title_length:.2f} characters\")\n",
        "print(f\"Average Text Length for Real News: {avg_real_text_length:.2f} characters\")\n",
        "print(f\"Average Text Length for Fake News: {avg_fake_text_length:.2f} characters\")"
      ]
    },
    {
      "cell_type": "code",
      "execution_count": 30,
      "metadata": {
        "id": "tcbwvPXHkfyR"
      },
      "outputs": [],
      "source": [
        "labels = [\"Real Title\",\"Fake News\",\"Real Text\",\"Fake Text\"]\n",
        "lengths = [avg_real_title_length, avg_fake_title_length, avg_real_text_length,avg_fake_text_length ]"
      ]
    },
    {
      "cell_type": "code",
      "execution_count": 31,
      "metadata": {
        "colab": {
          "base_uri": "https://localhost:8080/"
        },
        "id": "UehQR9oYlCJM",
        "outputId": "d15a2a0a-3040-497e-ca2d-1fcf2bbcaa76"
      },
      "outputs": [
        {
          "data": {
            "image/png": "[encoded data removed]",
            "text/plain": [
              "<Figure size 1000x600 with 1 Axes>"
            ]
          },
          "metadata": {},
          "output_type": "display_data"
        }
      ],
      "source": [
        "\n",
        "plt.figure(figsize=(10,6))\n",
        "plt.bar(labels,lengths,color=[\"green\",\"red\",\"green\",\"red\"])\n",
        "plt.title(\"Average Title & Text Lengths for Real & Fake News\")\n",
        "plt.ylabel(\"Average Length (characters)\")\n",
        "plt.xticks(rotation=45)\n",
        "plt.show()"
      ]
    },
    {
      "cell_type": "markdown",
      "metadata": {
        "id": "X3OJurIalGvP"
      },
      "source": [
        "# Detecting sensationalism in fake news"
      ]
    },
    {
      "cell_type": "code",
      "execution_count": 32,
      "metadata": {
        "id": "nmb61bq5lNPD"
      },
      "outputs": [],
      "source": [
        "import pandas as pd\n",
        "from scipy.stats import chi2_contingency\n",
        "import re"
      ]
    },
    {
      "cell_type": "code",
      "execution_count": 33,
      "metadata": {
        "id": "5vdfAdM9rxJn"
      },
      "outputs": [],
      "source": [
        "def detect_sensationalism(text):\n",
        "    sensational_keywords = [\"shocking\", \"outrageous\", \"unbelievable\", \"mind-blowing\", \"explosive\"]\n",
        "\n",
        "    for keyword in sensational_keywords:\n",
        "        if re.search(r'\\b' + keyword + r'\\b', text, re.IGNORECASE):\n",
        "            return True\n",
        "    return False"
      ]
    },
    {
      "cell_type": "code",
      "execution_count": 34,
      "metadata": {
        "id": "uBfVX-_QmLJ1"
      },
      "outputs": [],
      "source": [
        "data[\"Sensationalism\"] = data[\"text\"].apply(detect_sensationalism)\n"
      ]
    },
    {
      "cell_type": "code",
      "execution_count": 35,
      "metadata": {
        "colab": {
          "base_uri": "https://localhost:8080/"
        },
        "id": "ZJgUpR-CmLRO",
        "outputId": "486228ba-84ee-4b00-f3b7-690ffce98f41"
      },
      "outputs": [
        {
          "name": "stdout",
          "output_type": "stream",
          "text": [
            "label           Fake  Real\n",
            "Sensationalism            \n",
            "False           1205   723\n",
            "True              76    31\n"
          ]
        }
      ],
      "source": [
        "contigency_table = pd.crosstab(data[\"Sensationalism\"],data[\"label\"])\n",
        "print(contigency_table)\n"
      ]
    },
    {
      "cell_type": "code",
      "execution_count": 36,
      "metadata": {
        "id": "jE5AhPlkmLYt"
      },
      "outputs": [],
      "source": [
        "chi2,p,_,_ = chi2_contingency(contigency_table)\n",
        "\n"
      ]
    },
    {
      "cell_type": "code",
      "execution_count": 37,
      "metadata": {
        "colab": {
          "base_uri": "https://localhost:8080/"
        },
        "id": "dA82kcxXmVwm",
        "outputId": "f4e700ad-d10a-49ce-d1ab-124cb3276319"
      },
      "outputs": [
        {
          "name": "stdout",
          "output_type": "stream",
          "text": [
            "Chi-squared statistic: 2.805991856109019\n",
            "P-value: 0.09391274824954887\n"
          ]
        }
      ],
      "source": [
        "print(f\"Chi-squared statistic: {chi2}\")\n",
        "print(f\"P-value: {p}\")\n"
      ]
    },
    {
      "cell_type": "code",
      "execution_count": 38,
      "metadata": {
        "colab": {
          "base_uri": "https://localhost:8080/"
        },
        "id": "ZTX2P3o_mXNn",
        "outputId": "c1d77be8-4f1e-41f7-cd85-c9f0ab5af5ed"
      },
      "outputs": [
        {
          "name": "stdout",
          "output_type": "stream",
          "text": [
            "There is not significant association between sensationalism and credibility of the news\n"
          ]
        }
      ],
      "source": [
        "alpha = 0.05\n",
        "if p < alpha:\n",
        "  print(\"There is a significant association between sensationalism and credibility of the news\")\n",
        "else:\n",
        "  print(\"There is not significant association between sensationalism and credibility of the news\")"
      ]
    },
    {
      "cell_type": "markdown",
      "metadata": {
        "id": "CEFqeI-GmKJw"
      },
      "source": [
        "# Analyzing Emotion in Fake news with NLP"
      ]
    },
    {
      "cell_type": "code",
      "execution_count": 39,
      "metadata": {
        "id": "6Vq2eoe3rYk5"
      },
      "outputs": [],
      "source": [
        "import pandas as pd\n",
        "import nltk\n",
        "from nltk.sentiment.vader import SentimentIntensityAnalyzer"
      ]
    },
    {
      "cell_type": "code",
      "execution_count": 40,
      "metadata": {
        "colab": {
          "base_uri": "https://localhost:8080/"
        },
        "id": "JJZsFbmirk4_",
        "outputId": "638c72f9-72cc-40cf-a62a-cb5fdbcc4551"
      },
      "outputs": [
        {
          "name": "stderr",
          "output_type": "stream",
          "text": [
            "[nltk_data] Downloading package vader_lexicon to\n",
            "[nltk_data]     C:\\Users\\Tonkhaow\\AppData\\Roaming\\nltk_data...\n",
            "[nltk_data]   Package vader_lexicon is already up-to-date!\n"
          ]
        },
        {
          "data": {
            "text/plain": [
              "True"
            ]
          },
          "execution_count": 40,
          "metadata": {},
          "output_type": "execute_result"
        }
      ],
      "source": [
        "nltk.download('vader_lexicon')"
      ]
    },
    {
      "cell_type": "code",
      "execution_count": 41,
      "metadata": {
        "id": "s2VTQ2zWrn79"
      },
      "outputs": [],
      "source": [
        "analyzer = SentimentIntensityAnalyzer()\n"
      ]
    },
    {
      "cell_type": "code",
      "execution_count": 42,
      "metadata": {
        "id": "9KfBbjdDroxg"
      },
      "outputs": [],
      "source": [
        "# Defining a function to analyze the sentiment of text using VADER sentiment analysis\n",
        "def analyze_sentiment(text):\n",
        "  # Getting the polarity scores for the text\n",
        "  sentiment_score = analyzer.polarity_scores(text)\n",
        "  if sentiment_score[\"compound\"] >= 0.05:\n",
        "    return \"Positive\"\n",
        "  elif sentiment_score[\"compound\"] <= -0.05:\n",
        "    return \"Negative\"\n",
        "  else:\n",
        "    return \"Neutral\""
      ]
    },
    {
      "cell_type": "code",
      "execution_count": 43,
      "metadata": {
        "id": "reUu3CXZrrtB"
      },
      "outputs": [],
      "source": [
        "data[\"Sentiment\"] = data[\"text\"].apply(analyze_sentiment)"
      ]
    },
    {
      "cell_type": "code",
      "execution_count": 44,
      "metadata": {
        "colab": {
          "base_uri": "https://localhost:8080/"
        },
        "id": "33T8Vj-UruRe",
        "outputId": "5a8f02fa-cfeb-4d19-a8e5-e1880339dde5"
      },
      "outputs": [
        {
          "name": "stdout",
          "output_type": "stream",
          "text": [
            "                                                text Sentiment\n",
            "0  print they should pay all the back all the mon...  Positive\n",
            "1  why did attorney general loretta lynch plead t...  Negative\n",
            "2  red state  \\nfox news sunday reported this mor...  Positive\n",
            "3  email kayla mueller was a prisoner and torture...  Positive\n",
            "4  email healthcare reform to make america great ...  Positive\n"
          ]
        }
      ],
      "source": [
        "print(data[['text','Sentiment']].head())"
      ]
    },
    {
      "cell_type": "markdown",
      "metadata": {
        "id": "Q-XzT-p5r2Qq"
      },
      "source": [
        "# Detecting Fake News with Feature Engineering"
      ]
    },
    {
      "cell_type": "code",
      "execution_count": 45,
      "metadata": {
        "colab": {
          "base_uri": "https://localhost:8080/"
        },
        "id": "K2nGvjRkrzcN",
        "outputId": "b849ae20-6049-4bc6-fd22-c0e614454fdd"
      },
      "outputs": [
        {
          "name": "stdout",
          "output_type": "stream",
          "text": [
            "['clinton', 'trump', 'said', 'hillary', 'people', 'like', 'just', 'new', 'election', 'time']\n",
            "Prediction: Fake News\n"
          ]
        }
      ],
      "source": [
        "import pandas as pd\n",
        "from sklearn.feature_extraction.text import CountVectorizer\n",
        "from sklearn.model_selection import train_test_split\n",
        "from sklearn.ensemble import RandomForestClassifier\n",
        "from sklearn.metrics import accuracy_score\n",
        "\n",
        "fake_news_data = data[data['label'] == \"Fake\"]\n",
        "vectorizer = CountVectorizer(stop_words='english')\n",
        "X = vectorizer.fit_transform(fake_news_data[\"text\"])\n",
        "word_frequencies = X.toarray().sum(axis=0)\n",
        "feature_names = vectorizer.get_feature_names_out()\n",
        "keywords = [feature_names[i] for i in word_frequencies.argsort()[-10:][::-1]]\n",
        "print(keywords)\n",
        "\n",
        "site_counts = data[\"site_url\"].value_counts()\n",
        "fake_site_counts = data[data[\"label\"]==\"Fake\"][\"site_url\"].value_counts()\n",
        "fake_news_percentage = fake_site_counts / site_counts\n",
        "\n",
        "def fakenewsprediction(title, news_source):\n",
        "  title_contains_keyword = any(keyword in title.lower() for keyword in keywords)\n",
        "  if news_source in fake_news_percentage:\n",
        "    source_fake_percentage = fake_news_percentage[news_source]\n",
        "  else:\n",
        "    source_fake_percentage = 0.0\n",
        "\n",
        "  if title_contains_keyword and source_fake_percentage > 0.5:\n",
        "    return \"Fake News\"\n",
        "  else:\n",
        "    return \"Real News\"\n",
        "\n",
        "text_input = \"Breaking: election week is over\"\n",
        "source_input = \"der-postillon.com\"\n",
        "prediction = fakenewsprediction(text_input,source_input)\n",
        "print(f\"Prediction: {prediction}\")"
      ]
    },
    {
      "cell_type": "markdown",
      "metadata": {
        "id": "IfR5KXgIzbwA"
      },
      "source": [
        "# Detecing Fake News with Logistic Regression"
      ]
    },
    {
      "cell_type": "code",
      "execution_count": 46,
      "metadata": {
        "colab": {
          "base_uri": "https://localhost:8080/"
        },
        "id": "4iEBvZrJzfgh",
        "outputId": "0b2931f1-e35a-4783-f554-1fe007842b9c"
      },
      "outputs": [
        {
          "name": "stdout",
          "output_type": "stream",
          "text": [
            "Accuracy: 0.73\n",
            "Prediction: Real News\n"
          ]
        }
      ],
      "source": [
        "import pandas as pd\n",
        "from sklearn.feature_extraction.text import TfidfVectorizer\n",
        "from sklearn.model_selection import train_test_split\n",
        "from sklearn.linear_model import LogisticRegression\n",
        "from sklearn.metrics import accuracy_score\n",
        "from sklearn.pipeline import Pipeline\n",
        "from sklearn.preprocessing import LabelEncoder\n",
        "\n",
        "missing_data = data[[\"text\",\"label\"]].isnull().any(axis=1)\n",
        "if missing_data.any():\n",
        "  print(\"Missing Values Found in the Dataset. Handle Missing Data Before Proceeding\")\n",
        "else:\n",
        "  le = LabelEncoder()\n",
        "  data[\"label\"] = le.fit_transform(data[\"label\"])\n",
        "  X = data[\"text\"]\n",
        "  y = data[\"label\"]\n",
        "  X_train, X_test, y_train, y_test = train_test_split(X,y,test_size=0.2,random_state=42)\n",
        "  text_feature_extraction = TfidfVectorizer(max_features=5000,stop_words=\"english\")\n",
        "  model = LogisticRegression()\n",
        "  pipeline = Pipeline([\n",
        "      ('tfidf',text_feature_extraction),\n",
        "      ('model',model)\n",
        "  ])\n",
        "  pipeline.fit(X_train,y_train)\n",
        "  y_pred = pipeline.predict(X_test)\n",
        "  accuracy = accuracy_score(y_test,y_pred)\n",
        "  print(f\"Accuracy: {accuracy:.2f}\")\n",
        "  def fakenewsprediction(text):\n",
        "    input_data = [text]\n",
        "    prediction = pipeline.predict(input_data)\n",
        "    if prediction[0] == 0:\n",
        "      return \"Real News\"\n",
        "    else:\n",
        "      return \"Fake News\"\n",
        "\n",
        "article_input = \"Stocks rallied sharply after the Labor Department said nonfarm payrolls rose by 150,000 in October — 20,000 fewer than expected but a difference attributable pretty much completely to the auto strikes, which appear to be over.\"\n",
        "prediction = fakenewsprediction(article_input)\n",
        "print(f\"Prediction: {prediction}\")"
      ]
    },
    {
      "cell_type": "markdown",
      "metadata": {
        "id": "OG6L4kZK0ml7"
      },
      "source": [
        "# Detecting Fake News with Random Forest"
      ]
    },
    {
      "cell_type": "code",
      "execution_count": 47,
      "metadata": {
        "colab": {
          "base_uri": "https://localhost:8080/"
        },
        "id": "4a483Ua40wKv",
        "outputId": "750d5c1f-b48f-44db-c60f-7333c197d8da"
      },
      "outputs": [
        {
          "name": "stdout",
          "output_type": "stream",
          "text": [
            "Prediction: 1\n"
          ]
        }
      ],
      "source": [
        "import pandas as pd\n",
        "from sklearn.feature_extraction.text import TfidfVectorizer\n",
        "from sklearn.ensemble import RandomForestClassifier\n",
        "from sklearn.preprocessing import LabelEncoder\n",
        "\n",
        "X = data[\"title\"]\n",
        "y = data[\"label\"]\n",
        "\n",
        "tfidf_vectorizer = TfidfVectorizer(max_features=5000,stop_words=\"english\")\n",
        "X_tfidf = tfidf_vectorizer.fit_transform(X)\n",
        "\n",
        "label_encoder = LabelEncoder()\n",
        "y_encoded = label_encoder.fit_transform(y)\n",
        "\n",
        "random_forest_classifier = RandomForestClassifier(n_estimators=100, random_state=42)\n",
        "random_forest_classifier.fit(X_tfidf,y_encoded)\n",
        "\n",
        "def fakenewsprediction(title):\n",
        "  title_tfidf = tfidf_vectorizer.transform([title])\n",
        "  prediction = random_forest_classifier.predict(title_tfidf)\n",
        "  predicted_label = label_encoder.inverse_transform(prediction)\n",
        "  return predicted_label[0]\n",
        "\n",
        "title_input = \"Few reasons for optimism after Antony Blinken's diplomatic dash\"\n",
        "prediction = fakenewsprediction(title_input)\n",
        "print(f\"Prediction: {prediction}\")"
      ]
    },
    {
      "cell_type": "markdown",
      "metadata": {
        "id": "vQymbUQK01eE"
      },
      "source": [
        "# Evaluate modeedl with confusion matrix"
      ]
    },
    {
      "cell_type": "code",
      "execution_count": 48,
      "metadata": {
        "colab": {
          "base_uri": "https://localhost:8080/"
        },
        "id": "faCuXeWT06Vm",
        "outputId": "f419223b-6309-459d-a48c-bb29b114a5e1"
      },
      "outputs": [
        {
          "name": "stdout",
          "output_type": "stream",
          "text": [
            "Confusion Matrix:\n",
            "[[177  77]\n",
            " [ 57  96]]\n"
          ]
        }
      ],
      "source": [
        "import pandas as pd\n",
        "from sklearn.metrics import confusion_matrix\n",
        "from sklearn.model_selection import train_test_split\n",
        "from sklearn.ensemble import RandomForestClassifier\n",
        "from sklearn.preprocessing import LabelEncoder\n",
        "from sklearn.feature_extraction.text import TfidfVectorizer\n",
        "\n",
        "X = data[\"title\"]\n",
        "y = data[\"label\"]\n",
        "\n",
        "tfidf_vectorizer = TfidfVectorizer(max_features=5000,stop_words=\"english\")\n",
        "X_tfidf = tfidf_vectorizer.fit_transform(X)\n",
        "\n",
        "label_encoder = LabelEncoder()\n",
        "y_encoded = label_encoder.fit_transform(y)\n",
        "\n",
        "X_train, X_test, y_train, y_test = train_test_split(X_tfidf,y_encoded,test_size=0.2,random_state=42)\n",
        "\n",
        "random_forest_classifier = RandomForestClassifier(n_estimators=100, random_state=42)\n",
        "random_forest_classifier.fit(X_train,y_train)\n",
        "\n",
        "y_pred = random_forest_classifier.predict(X_test)\n",
        "\n",
        "cm = confusion_matrix(y_test,y_pred)\n",
        "\n",
        "print(\"Confusion Matrix:\")\n",
        "print(cm)"
      ]
    },
    {
      "cell_type": "markdown",
      "metadata": {
        "id": "bkbX166A1CUb"
      },
      "source": [
        "# Performing Audit"
      ]
    },
    {
      "cell_type": "code",
      "execution_count": 49,
      "metadata": {
        "colab": {
          "base_uri": "https://localhost:8080/",
          "height": 383
        },
        "id": "PBA-VV4i1GUZ",
        "outputId": "bd5c4e3a-bcf8-4aa4-c1a7-9b06d85adbef"
      },
      "outputs": [
        {
          "name": "stdout",
          "output_type": "stream",
          "text": [
            "Demographic Parity Difference: 0.3243\n"
          ]
        }
      ],
      "source": [
        "import pandas as pd\n",
        "from sklearn.model_selection import train_test_split\n",
        "from sklearn.feature_extraction.text import TfidfVectorizer\n",
        "from sklearn.ensemble import RandomForestClassifier\n",
        "from sklearn.preprocessing import LabelEncoder\n",
        "\n",
        "X = data[\"title\"]\n",
        "y = data[\"label\"]\n",
        "tfidf_vectorizer = TfidfVectorizer(max_features=5000,stop_words=\"english\")\n",
        "X_tfidf = tfidf_vectorizer.fit_transform(X)\n",
        "label_encoder = LabelEncoder()\n",
        "y_encoded = label_encoder.fit_transform(y)\n",
        "X_train, X_test, y_train, y_test = train_test_split(X_tfidf,y_encoded,test_size=0.2,random_state=42)\n",
        "random_forest_classifier = RandomForestClassifier(n_estimators=100, random_state=42)\n",
        "random_forest_classifier.fit(X_train,y_train)\n",
        "y_pred = random_forest_classifier.predict(X_test)\n",
        "\n",
        "def demographic_parity_difference(y_true,y_pred):\n",
        "  group1_indices = [i for i,y in enumerate(y_true) if y == 0]\n",
        "  group2_indices = [i for i,y in enumerate(y_true) if y == 1]\n",
        "  group1_positive_rate = sum(1 for i in group1_indices if y_pred[i] == 1)/len(group1_indices)\n",
        "  group2_positive_rate = sum(1 for i in group2_indices if y_pred[i] == 1)/len(group2_indices)\n",
        "  dp_diff = abs(group1_positive_rate - group2_positive_rate)\n",
        "  return dp_diff\n",
        "\n",
        "dp_diff = demographic_parity_difference(y_test,y_pred)\n",
        "print(f\"Demographic Parity Difference: {dp_diff:.4f}\")"
      ]
    }
  ],
  "metadata": {
    "colab": {
      "collapsed_sections": [
        "7Tb83sLfPIOj",
        "6K58nCcaVZQR",
        "qGBZkOhqkWsO",
        "X3OJurIalGvP",
        "CEFqeI-GmKJw",
        "Q-XzT-p5r2Qq",
        "IfR5KXgIzbwA",
        "OG6L4kZK0ml7",
        "vQymbUQK01eE",
        "bkbX166A1CUb"
      ],
      "provenance": [],
      "toc_visible": true
    },
    "kernelspec": {
      "display_name": "Python 3",
      "name": "python3"
    },
    "language_info": {
      "codemirror_mode": {
        "name": "ipython",
        "version": 3
      },
      "file_extension": ".py",
      "mimetype": "text/x-python",
      "name": "python",
      "nbconvert_exporter": "python",
      "pygments_lexer": "ipython3",
      "version": "3.11.5"
    }
  },
  "nbformat": 4,
  "nbformat_minor": 0
}
