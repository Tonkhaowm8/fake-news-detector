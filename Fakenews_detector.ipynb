{
  "cells": [
    {
      "cell_type": "markdown",
      "metadata": {
        "id": "7Tb83sLfPIOj"
      },
      "source": [
        "# Clean dataset"
      ]
    },
    {
      "cell_type": "code",
      "execution_count": null,
      "metadata": {
        "id": "3cVfReWN5Ive"
      },
      "outputs": [],
      "source": [
        "import pandas as pd #use pandas to read dataset\n",
        "import os"
      ]
    },
    {
      "cell_type": "code",
      "execution_count": null,
      "metadata": {
        "id": "w7JLBAz8Ju5N"
      },
      "outputs": [],
      "source": [
        "data = pd.read_csv(os.path.join(\"csvs\", \"combined.csv\"), encoding = \"ISO-8859-1\")"
      ]
    },
    {
      "cell_type": "code",
      "execution_count": null,
      "metadata": {
        "colab": {
          "base_uri": "https://localhost:8080/",
          "height": 588
        },
        "id": "UvVVxooxKJBr",
        "outputId": "c6ffa4e5-a6b0-490c-8c43-8b572e6665ad"
      },
      "outputs": [],
      "source": [
        "#display shape and dimension\n",
        "data.head() #displayy the first 5 rows of datasets"
      ]
    },
    {
      "cell_type": "code",
      "execution_count": null,
      "metadata": {},
      "outputs": [],
      "source": [
        "# Filter out columns with 'Unnamed' in their title\n",
        "data = data.loc[:, ~data.columns.str.contains('^Unnamed')]"
      ]
    },
    {
      "cell_type": "code",
      "execution_count": null,
      "metadata": {
        "colab": {
          "base_uri": "https://localhost:8080/",
          "height": 417
        },
        "id": "lS6rc2aDLEa_",
        "outputId": "35db3c30-c8d8-437f-a954-99525253715b"
      },
      "outputs": [],
      "source": [
        "#display last 5 rows of dataset\n",
        "data.tail()"
      ]
    },
    {
      "cell_type": "code",
      "execution_count": null,
      "metadata": {},
      "outputs": [],
      "source": [
        "# Check if label has only real or fake\n",
        "invalid_indices = data[~data['label'].isin(['Real', 'Fake'])].index\n",
        "\n",
        "# Remove rows with invalid values in the 'label' column\n",
        "data.drop(invalid_indices, inplace=True)"
      ]
    },
    {
      "cell_type": "code",
      "execution_count": null,
      "metadata": {
        "colab": {
          "base_uri": "https://localhost:8080/"
        },
        "id": "G15w4UtELOjl",
        "outputId": "7460a30b-016b-48f7-d859-8f415c586acc"
      },
      "outputs": [],
      "source": [
        "data.info()"
      ]
    },
    {
      "cell_type": "code",
      "execution_count": null,
      "metadata": {
        "colab": {
          "base_uri": "https://localhost:8080/"
        },
        "id": "ivq4XDFALc-N",
        "outputId": "e3168faf-c960-409d-c098-eb37517ebd18"
      },
      "outputs": [],
      "source": [
        "#find out how many row and columns\n",
        "data.shape\n"
      ]
    },
    {
      "cell_type": "code",
      "execution_count": null,
      "metadata": {
        "colab": {
          "base_uri": "https://localhost:8080/"
        },
        "id": "C0NC_wLGLksP",
        "outputId": "d6c2ea6d-d9b3-44b8-9d03-38c83c4287e7"
      },
      "outputs": [],
      "source": [
        "data.columns #display all columns"
      ]
    },
    {
      "cell_type": "code",
      "execution_count": null,
      "metadata": {
        "colab": {
          "base_uri": "https://localhost:8080/"
        },
        "id": "yaa-oXBxLrvt",
        "outputId": "0d1b0753-1139-4538-e3db-08288c38be7f"
      },
      "outputs": [],
      "source": [
        "#display datatype each columns\n",
        "data.dtypes"
      ]
    },
    {
      "cell_type": "code",
      "execution_count": null,
      "metadata": {
        "colab": {
          "base_uri": "https://localhost:8080/"
        },
        "id": "cy4y0x85MPKO",
        "outputId": "b7451e32-dd30-4637-9655-0fe12d52192d"
      },
      "outputs": [],
      "source": [
        "##clean dataset\n",
        "#check missing value and remove it\n",
        "#remove duplicate data\n",
        "missing_values_rows = data.isnull().any(axis=1) #check row has missing value or not, if it's has then return true\n",
        "print(\"Row with Missing Values:\")\n",
        "print(missing_values_rows) #print all row that has missing values , True= row with missing value"
      ]
    },
    {
      "cell_type": "code",
      "execution_count": null,
      "metadata": {
        "colab": {
          "base_uri": "https://localhost:8080/"
        },
        "id": "AUO_V4pKM02D",
        "outputId": "f10f0128-8381-409e-fb41-4ca0fe9cff74"
      },
      "outputs": [],
      "source": [
        "#check duplicate dattaset\n",
        "duplicate_rows = data[data.duplicated()]\n",
        "print(\"Duplicated Rows:\")\n",
        "print(duplicate_rows)"
      ]
    },
    {
      "cell_type": "code",
      "execution_count": null,
      "metadata": {
        "id": "xBtOc7GvNQJT"
      },
      "outputs": [],
      "source": [
        "#clean the data\n",
        "data.dropna(axis=0, inplace=True)#remove missising value"
      ]
    },
    {
      "cell_type": "code",
      "execution_count": null,
      "metadata": {
        "id": "v3vx7mQGNjqH"
      },
      "outputs": [],
      "source": [
        "# data.drop_duplicates(inplace=True)#remove duplicate data"
      ]
    },
    {
      "cell_type": "code",
      "execution_count": null,
      "metadata": {
        "id": "l48R4VSIN34A"
      },
      "outputs": [],
      "source": [
        "#save the dataset that's we have clean\n",
        "data.to_csv(\"cleaned_dataset.csv\", index=False)"
      ]
    },
    {
      "cell_type": "code",
      "execution_count": null,
      "metadata": {
        "colab": {
          "base_uri": "https://localhost:8080/",
          "height": 34
        },
        "id": "rfJgyGXIOG45",
        "outputId": "a2d50a1a-5e69-404a-85df-678a28f21ce4"
      },
      "outputs": [],
      "source": [
        "file_path = \"cleaned_dataset.csv\""
      ]
    },
    {
      "cell_type": "markdown",
      "metadata": {
        "id": "O_tBbP9iU5kP"
      },
      "source": [
        "#News Source Credibility Analysis , Calculate News sources credibility"
      ]
    },
    {
      "cell_type": "markdown",
      "metadata": {
        "id": "8tvrXimroKFB"
      },
      "source": [
        "count the number of reaal and fake articles for each source"
      ]
    },
    {
      "cell_type": "code",
      "execution_count": null,
      "metadata": {
        "id": "pU0nXwVxP2cz"
      },
      "outputs": [],
      "source": [
        "source_count =   data.groupby([\"site_url\",\"label\"]).size().unstack(fill_value=0)\n"
      ]
    },
    {
      "cell_type": "markdown",
      "metadata": {
        "id": "skYgqyHjoSBS"
      },
      "source": [
        "Calculate % of real news and fake news"
      ]
    },
    {
      "cell_type": "code",
      "execution_count": null,
      "metadata": {
        "id": "K0VmEJEqQj67"
      },
      "outputs": [],
      "source": [
        "# Real News\n",
        "source_count[\"Percentage Real (%)\"] = (source_count[\"Real\"]/(source_count[\"Real\"]+source_count[\"Fake\"])) * 100\n",
        "\n",
        "# Fake News\n",
        "source_count[\"Percentage Fake (%)\"] = (source_count[\"Fake\"]/(source_count[\"Real\"]+source_count[\"Fake\"])) * 100"
      ]
    },
    {
      "cell_type": "markdown",
      "metadata": {
        "id": "6d--Te3kocCi"
      },
      "source": [
        "Sort Credibility based on the %"
      ]
    },
    {
      "cell_type": "code",
      "execution_count": null,
      "metadata": {
        "id": "mCAGr4lARepx"
      },
      "outputs": [],
      "source": [
        "sorted_sources = source_count.sort_values(by=\"Percentage Real (%)\", ascending = False)"
      ]
    },
    {
      "cell_type": "markdown",
      "metadata": {
        "id": "Q5vRRNg7oiXf"
      },
      "source": [
        "Print top 10 news stats"
      ]
    },
    {
      "cell_type": "code",
      "execution_count": null,
      "metadata": {
        "colab": {
          "base_uri": "https://localhost:8080/"
        },
        "id": "nXmjJXYDSS7S",
        "outputId": "e3d48863-a3f6-4fb0-bcb4-f00eddc6c902"
      },
      "outputs": [],
      "source": [
        "print(\"Top 10 Most Credible News Sources:\")\n",
        "for source, row in sorted_sources.head(10).iterrows():\n",
        "  print(f\"News {source}, fake news = {row['Percentage Fake (%)']:.1f}%\")\n",
        "\n",
        "print(\"\\nTop 10 Least Credible News Sources:\")\n",
        "for source, row in sorted_sources.tail(10).iterrows():\n",
        "  print(f\"News {source}, fake news = {row['Percentage Fake (%)']:.1f}%\")\n",
        "\n",
        "#ยิ่ง percent เยอะ จะเข้าข่ายfakenews"
      ]
    },
    {
      "cell_type": "markdown",
      "metadata": {
        "id": "6K58nCcaVZQR"
      },
      "source": [
        "# Detecting Keywords Associated with Fake News"
      ]
    },
    {
      "cell_type": "code",
      "execution_count": 1,
      "metadata": {
        "id": "PobTBW0hTWzo"
      },
      "outputs": [],
      "source": [
        "import nltk\n",
        "import pandas as pd\n",
        "from nltk.tokenize import word_tokenize  #nltl = natural language tool kit\n",
        "from nltk.corpus import stopwords\n",
        "from collections import Counter"
      ]
    },
    {
      "cell_type": "markdown",
      "metadata": {
        "id": "618umqDZp14a"
      },
      "source": [
        "Identify Most Frequent Keyword"
      ]
    },
    {
      "cell_type": "code",
      "execution_count": 2,
      "metadata": {
        "colab": {
          "base_uri": "https://localhost:8080/"
        },
        "id": "LE05Y6FJVbNz",
        "outputId": "705aec1b-0f0e-44af-e286-17f706981555"
      },
      "outputs": [
        {
          "name": "stderr",
          "output_type": "stream",
          "text": [
            "[nltk_data] Downloading package stopwords to\n",
            "[nltk_data]     C:\\Users\\Tonkhaow\\AppData\\Roaming\\nltk_data...\n",
            "[nltk_data]   Package stopwords is already up-to-date!\n",
            "[nltk_data] Downloading package punkt to\n",
            "[nltk_data]     C:\\Users\\Tonkhaow\\AppData\\Roaming\\nltk_data...\n",
            "[nltk_data]   Package punkt is already up-to-date!\n"
          ]
        }
      ],
      "source": [
        "data = pd.read_csv(\"cleaned_dataset.csv\")\n",
        "nltk.download(\"stopwords\")\n",
        "nltk.download(\"punkt\")\n",
        "stop_words = set(stopwords.words(\"english\"))"
      ]
    },
    {
      "cell_type": "markdown",
      "metadata": {
        "id": "xZZl33Oap5Ld"
      },
      "source": [
        "Count Occurrences of titles and text"
      ]
    },
    {
      "cell_type": "code",
      "execution_count": 3,
      "metadata": {
        "id": "RyN91As6jZXE"
      },
      "outputs": [],
      "source": [
        "title_counter = Counter()\n",
        "text_counter = Counter()\n",
        "for index, row in data.iterrows():\n",
        "  # tokenize text - splits text into words\n",
        "  title_words = word_tokenize(row[\"title\"])\n",
        "  text_words = word_tokenize(row[\"text\"])\n",
        "  # Filter out non-alphabetic words and stopwords from the title and text, change words to lowercase\n",
        "  title_words = [word.lower() for word in title_words if word.isalpha() and word.lower() not in stop_words]\n",
        "  text_words = [word.lower() for word in title_words if word.isalpha() and word.lower() not in stop_words]\n",
        "\n",
        "  # Check if the label of the current row is \"Fake\"\n",
        "  if row[\"label\"] == \"Fake\":\n",
        "    # Update the title_counter and text_counter with the fake title_words and text_words\n",
        "    title_counter.update(title_words)\n",
        "    text_counter.update(text_words)\n",
        "top_keywords_title = title_counter.most_common(5)\n",
        "top_keywords_text = text_counter.most_common(5)"
      ]
    },
    {
      "cell_type": "markdown",
      "metadata": {
        "id": "7AYjZJhGqS1s"
      },
      "source": [
        "Print Top Keywords that is assiciated with Fake News"
      ]
    },
    {
      "cell_type": "code",
      "execution_count": 4,
      "metadata": {
        "colab": {
          "base_uri": "https://localhost:8080/"
        },
        "id": "ZHYTxZMQkIbA",
        "outputId": "22a3b3fe-86b9-4885-ebc0-ce65006753bf"
      },
      "outputs": [
        {
          "name": "stdout",
          "output_type": "stream",
          "text": [
            "Top 5 Keywords Associated with Fake News Titles:\n",
            "trump: 135 times\n",
            "hillary: 129 times\n",
            "clinton: 121 times\n",
            "title: 101 times\n",
            "us: 59 times\n",
            "\n",
            "Top 5 Keywords Associated with Fake News Texts:\n",
            "trump: 135 times\n",
            "hillary: 129 times\n",
            "clinton: 121 times\n",
            "title: 101 times\n",
            "us: 59 times\n"
          ]
        }
      ],
      "source": [
        "print(\"Top 5 Keywords Associated with Fake News Titles:\")\n",
        "for keyword, count in top_keywords_title:\n",
        "  print(f\"{keyword}: {count} times\")\n",
        "print(\"\\nTop 5 Keywords Associated with Fake News Texts:\")\n",
        "for keyword, count in top_keywords_text:\n",
        "  print(f\"{keyword}: {count} times\")"
      ]
    },
    {
      "cell_type": "markdown",
      "metadata": {
        "id": "qGBZkOhqkWsO"
      },
      "source": [
        "# News Title and text length analysis"
      ]
    },
    {
      "cell_type": "code",
      "execution_count": 5,
      "metadata": {
        "id": "rhWX1d-Tkey0"
      },
      "outputs": [],
      "source": [
        "import pandas as pd\n",
        "import matplotlib.pyplot as plt"
      ]
    },
    {
      "cell_type": "code",
      "execution_count": 6,
      "metadata": {
        "id": "OPBIXa6Fkwlq"
      },
      "outputs": [],
      "source": [
        "data[\"title_length\"] = data[\"title\"].apply(len)\n",
        "data[\"text_length\"] = data[\"text\"].apply(len)"
      ]
    },
    {
      "cell_type": "code",
      "execution_count": 7,
      "metadata": {
        "id": "hcPf0BuLk3xf"
      },
      "outputs": [],
      "source": [
        "real_news = data[data[\"label\"]==\"Real\"]\n",
        "fake_news = data[data[\"label\"]==\"Fake\"]"
      ]
    },
    {
      "cell_type": "code",
      "execution_count": 8,
      "metadata": {
        "id": "rd5Qm0Htk9Kx"
      },
      "outputs": [],
      "source": [
        "avg_real_title_length = real_news[\"title_length\"].mean()\n",
        "avg_fake_title_length = fake_news[\"title_length\"].mean()\n",
        "avg_real_text_length = real_news[\"text_length\"].mean()\n",
        "avg_fake_text_length = fake_news[\"text_length\"].mean()"
      ]
    },
    {
      "cell_type": "code",
      "execution_count": 9,
      "metadata": {
        "colab": {
          "base_uri": "https://localhost:8080/"
        },
        "id": "ZcyY4e45k_p0",
        "outputId": "35c6fa55-2a77-47ad-b0ec-07f12cd082e6"
      },
      "outputs": [
        {
          "name": "stdout",
          "output_type": "stream",
          "text": [
            "Average Title Length for Real News: 56.67 characters\n",
            "Average Title Length for Fake News: 64.77 characters\n",
            "Average Text Length for Real News: 3170.10 characters\n",
            "Average Text Length for Fake News: 2829.06 characters\n"
          ]
        }
      ],
      "source": [
        "print(f\"Average Title Length for Real News: {avg_real_title_length:.2f} characters\")\n",
        "print(f\"Average Title Length for Fake News: {avg_fake_title_length:.2f} characters\")\n",
        "print(f\"Average Text Length for Real News: {avg_real_text_length:.2f} characters\")\n",
        "print(f\"Average Text Length for Fake News: {avg_fake_text_length:.2f} characters\")"
      ]
    },
    {
      "cell_type": "code",
      "execution_count": 10,
      "metadata": {
        "id": "tcbwvPXHkfyR"
      },
      "outputs": [],
      "source": [
        "labels = [\"Real Title\",\"Fake News\",\"Real Text\",\"Fake Text\"]\n",
        "lengths = [avg_real_title_length, avg_fake_title_length, avg_real_text_length,avg_fake_text_length ]"
      ]
    },
    {
      "cell_type": "code",
      "execution_count": 11,
      "metadata": {
        "colab": {
          "base_uri": "https://localhost:8080/"
        },
        "id": "UehQR9oYlCJM",
        "outputId": "d15a2a0a-3040-497e-ca2d-1fcf2bbcaa76"
      },
      "outputs": [
        {
          "data": {
            "image/png": "[encoded data removed]",
            "text/plain": [
              "<Figure size 1000x600 with 1 Axes>"
            ]
          },
          "metadata": {},
          "output_type": "display_data"
        }
      ],
      "source": [
        "\n",
        "plt.figure(figsize=(10,6))\n",
        "plt.bar(labels,lengths,color=[\"green\",\"red\",\"green\",\"red\"])\n",
        "plt.title(\"Average Title & Text Lengths for Real & Fake News\")\n",
        "plt.ylabel(\"Average Length (characters)\")\n",
        "plt.xticks(rotation=45)\n",
        "plt.show()"
      ]
    },
    {
      "cell_type": "markdown",
      "metadata": {
        "id": "X3OJurIalGvP"
      },
      "source": [
        "# Detecting sensationalism in fake news"
      ]
    },
    {
      "cell_type": "code",
      "execution_count": 12,
      "metadata": {
        "id": "nmb61bq5lNPD"
      },
      "outputs": [],
      "source": [
        "import pandas as pd\n",
        "from scipy.stats import chi2_contingency\n",
        "import re"
      ]
    },
    {
      "cell_type": "code",
      "execution_count": 13,
      "metadata": {
        "id": "5vdfAdM9rxJn"
      },
      "outputs": [],
      "source": [
        "def detect_sensationalism(text):\n",
        "    sensational_keywords = [\"shocking\", \"outrageous\", \"unbelievable\", \"mind-blowing\", \"explosive\"]\n",
        "\n",
        "    for keyword in sensational_keywords:\n",
        "        if re.search(r'\\b' + keyword + r'\\b', text, re.IGNORECASE):\n",
        "            return True\n",
        "    return False"
      ]
    },
    {
      "cell_type": "code",
      "execution_count": 14,
      "metadata": {
        "id": "uBfVX-_QmLJ1"
      },
      "outputs": [],
      "source": [
        "data[\"Sensationalism\"] = data[\"text\"].apply(detect_sensationalism)\n"
      ]
    },
    {
      "cell_type": "code",
      "execution_count": 15,
      "metadata": {
        "colab": {
          "base_uri": "https://localhost:8080/"
        },
        "id": "ZJgUpR-CmLRO",
        "outputId": "486228ba-84ee-4b00-f3b7-690ffce98f41"
      },
      "outputs": [
        {
          "name": "stdout",
          "output_type": "stream",
          "text": [
            "label           Fake  Real\n",
            "Sensationalism            \n",
            "False           1213   722\n",
            "True              78    31\n"
          ]
        }
      ],
      "source": [
        "contigency_table = pd.crosstab(data[\"Sensationalism\"],data[\"label\"])\n",
        "print(contigency_table)\n"
      ]
    },
    {
      "cell_type": "code",
      "execution_count": 16,
      "metadata": {
        "id": "jE5AhPlkmLYt"
      },
      "outputs": [],
      "source": [
        "chi2,p,_,_ = chi2_contingency(contigency_table)\n",
        "\n"
      ]
    },
    {
      "cell_type": "code",
      "execution_count": 17,
      "metadata": {
        "colab": {
          "base_uri": "https://localhost:8080/"
        },
        "id": "dA82kcxXmVwm",
        "outputId": "f4e700ad-d10a-49ce-d1ab-124cb3276319"
      },
      "outputs": [
        {
          "name": "stdout",
          "output_type": "stream",
          "text": [
            "Chi-squared statistic: 3.1200170742463156\n",
            "P-value: 0.07733597325641271\n"
          ]
        }
      ],
      "source": [
        "print(f\"Chi-squared statistic: {chi2}\")\n",
        "print(f\"P-value: {p}\")\n"
      ]
    },
    {
      "cell_type": "code",
      "execution_count": 18,
      "metadata": {
        "colab": {
          "base_uri": "https://localhost:8080/"
        },
        "id": "ZTX2P3o_mXNn",
        "outputId": "c1d77be8-4f1e-41f7-cd85-c9f0ab5af5ed"
      },
      "outputs": [
        {
          "name": "stdout",
          "output_type": "stream",
          "text": [
            "There is not significant association between sensationalism and credibility of the news\n"
          ]
        }
      ],
      "source": [
        "alpha = 0.05\n",
        "if p < alpha:\n",
        "  print(\"There is a significant association between sensationalism and credibility of the news\")\n",
        "else:\n",
        "  print(\"There is not significant association between sensationalism and credibility of the news\")"
      ]
    },
    {
      "cell_type": "markdown",
      "metadata": {
        "id": "CEFqeI-GmKJw"
      },
      "source": [
        "# Analyzing Emotion in Fake news with NLP"
      ]
    },
    {
      "cell_type": "code",
      "execution_count": 19,
      "metadata": {
        "id": "6Vq2eoe3rYk5"
      },
      "outputs": [],
      "source": [
        "import pandas as pd\n",
        "import nltk\n",
        "from nltk.sentiment.vader import SentimentIntensityAnalyzer"
      ]
    },
    {
      "cell_type": "code",
      "execution_count": 20,
      "metadata": {
        "colab": {
          "base_uri": "https://localhost:8080/"
        },
        "id": "JJZsFbmirk4_",
        "outputId": "638c72f9-72cc-40cf-a62a-cb5fdbcc4551"
      },
      "outputs": [
        {
          "name": "stderr",
          "output_type": "stream",
          "text": [
            "[nltk_data] Downloading package vader_lexicon to\n",
            "[nltk_data]     C:\\Users\\Tonkhaow\\AppData\\Roaming\\nltk_data...\n",
            "[nltk_data]   Package vader_lexicon is already up-to-date!\n"
          ]
        },
        {
          "data": {
            "text/plain": [
              "True"
            ]
          },
          "execution_count": 20,
          "metadata": {},
          "output_type": "execute_result"
        }
      ],
      "source": [
        "nltk.download('vader_lexicon')"
      ]
    },
    {
      "cell_type": "code",
      "execution_count": 21,
      "metadata": {
        "id": "s2VTQ2zWrn79"
      },
      "outputs": [],
      "source": [
        "analyzer = SentimentIntensityAnalyzer()\n"
      ]
    },
    {
      "cell_type": "code",
      "execution_count": 22,
      "metadata": {
        "id": "9KfBbjdDroxg"
      },
      "outputs": [],
      "source": [
        "# Defining a function to analyze the sentiment of text using VADER sentiment analysis\n",
        "def analyze_sentiment(text):\n",
        "  # Getting the polarity scores for the text\n",
        "  sentiment_score = analyzer.polarity_scores(text)\n",
        "  if sentiment_score[\"compound\"] >= 0.05:\n",
        "    return \"Positive\"\n",
        "  elif sentiment_score[\"compound\"] <= -0.05:\n",
        "    return \"Negative\"\n",
        "  else:\n",
        "    return \"Neutral\""
      ]
    },
    {
      "cell_type": "code",
      "execution_count": 23,
      "metadata": {
        "id": "reUu3CXZrrtB"
      },
      "outputs": [],
      "source": [
        "data[\"Sentiment\"] = data[\"text\"].apply(analyze_sentiment)"
      ]
    },
    {
      "cell_type": "code",
      "execution_count": 24,
      "metadata": {
        "colab": {
          "base_uri": "https://localhost:8080/"
        },
        "id": "33T8Vj-UruRe",
        "outputId": "5a8f02fa-cfeb-4d19-a8e5-e1880339dde5"
      },
      "outputs": [
        {
          "name": "stdout",
          "output_type": "stream",
          "text": [
            "                                                text Sentiment\n",
            "0  print they should pay all the back all the mon...  Positive\n",
            "1  why did attorney general loretta lynch plead t...  Negative\n",
            "2  red state  \\nfox news sunday reported this mor...  Positive\n",
            "3  email kayla mueller was a prisoner and torture...  Positive\n",
            "4  email healthcare reform to make america great ...  Positive\n"
          ]
        }
      ],
      "source": [
        "print(data[['text','Sentiment']].head())"
      ]
    },
    {
      "cell_type": "markdown",
      "metadata": {
        "id": "Q-XzT-p5r2Qq"
      },
      "source": [
        "# Detecting Fake News with Feature Engineering"
      ]
    },
    {
      "cell_type": "code",
      "execution_count": null,
      "metadata": {},
      "outputs": [],
      "source": []
    },
    {
      "cell_type": "code",
      "execution_count": 25,
      "metadata": {
        "colab": {
          "base_uri": "https://localhost:8080/"
        },
        "id": "K2nGvjRkrzcN",
        "outputId": "b849ae20-6049-4bc6-fd22-c0e614454fdd"
      },
      "outputs": [
        {
          "name": "stdout",
          "output_type": "stream",
          "text": [
            "['clinton', 'trump', 'said', 'hillary', 'people', 'like', 'just', 'election', 'new', 'time']\n",
            "Prediction: Fake News\n"
          ]
        }
      ],
      "source": [
        "import pandas as pd\n",
        "from sklearn.feature_extraction.text import CountVectorizer\n",
        "from sklearn.model_selection import train_test_split\n",
        "from sklearn.ensemble import RandomForestClassifier\n",
        "from sklearn.metrics import accuracy_score\n",
        "\n",
        "fake_news_data = data[data['label'] == \"Fake\"]\n",
        "vectorizer = CountVectorizer(stop_words='english')\n",
        "X = vectorizer.fit_transform(fake_news_data[\"text\"])\n",
        "word_frequencies = X.toarray().sum(axis=0)\n",
        "feature_names = vectorizer.get_feature_names_out()\n",
        "keywords = [feature_names[i] for i in word_frequencies.argsort()[-10:][::-1]]\n",
        "print(keywords)\n",
        "\n",
        "site_counts = data[\"site_url\"].value_counts()\n",
        "fake_site_counts = data[data[\"label\"]==\"Fake\"][\"site_url\"].value_counts()\n",
        "fake_news_percentage = fake_site_counts / site_counts\n",
        "\n",
        "def fakenewsprediction(title, news_source):\n",
        "  title_contains_keyword = any(keyword in title.lower() for keyword in keywords)\n",
        "  if news_source in fake_news_percentage:\n",
        "    source_fake_percentage = fake_news_percentage[news_source]\n",
        "  else:\n",
        "    source_fake_percentage = 0.0\n",
        "\n",
        "  if title_contains_keyword and source_fake_percentage > 0.5:\n",
        "    return \"Fake News\"\n",
        "  else:\n",
        "    return \"Real News\"\n",
        "\n",
        "text_input = \"Breaking: election week is over\"\n",
        "source_input = \"der-postillon.com\"\n",
        "prediction = fakenewsprediction(text_input,source_input)\n",
        "print(f\"Prediction: {prediction}\")"
      ]
    },
    {
      "cell_type": "markdown",
      "metadata": {
        "id": "IfR5KXgIzbwA"
      },
      "source": [
        "# Detecing Fake News with Logistic Regression"
      ]
    },
    {
      "cell_type": "code",
      "execution_count": 26,
      "metadata": {},
      "outputs": [
        {
          "name": "stdout",
          "output_type": "stream",
          "text": [
            "Number of data labels labeled as 'fake': 1291\n",
            "Number of data labels labeled as 'Real': 753\n"
          ]
        }
      ],
      "source": [
        "fake_count = (data['label'] == \"Fake\").sum()\n",
        "print(\"Number of data labels labeled as 'fake':\", fake_count)\n",
        "fake_count = (data['label'] == \"Real\").sum()\n",
        "print(\"Number of data labels labeled as 'Real':\", fake_count)"
      ]
    },
    {
      "cell_type": "code",
      "execution_count": 39,
      "metadata": {},
      "outputs": [
        {
          "name": "stdout",
          "output_type": "stream",
          "text": [
            "Number of data labels labeled as 'Fake': 1291\n",
            "Number of data labels labeled as 'Real': 753\n"
          ]
        }
      ],
      "source": [
        "# Convert labels\n",
        "data['label'] = data['label'].replace({\"Fake\": 1, \"Real\": 0})\n",
        "\n",
        "# Count occurrences\n",
        "fake_count = (data['label'] == 1).sum()\n",
        "print(\"Number of data labels labeled as 'Fake':\", fake_count)\n",
        "\n",
        "real_count = (data['label'] == 0).sum()\n",
        "print(\"Number of data labels labeled as 'Real':\", real_count)"
      ]
    },
    {
      "cell_type": "markdown",
      "metadata": {},
      "source": [
        "Under sampling data"
      ]
    },
    {
      "cell_type": "code",
      "execution_count": 40,
      "metadata": {},
      "outputs": [
        {
          "name": "stdout",
          "output_type": "stream",
          "text": [
            "Number of data labels labeled as 'fake' in balanced data: 1291\n",
            "Number of data labels labeled as 'real' in balanced data: 1291\n"
          ]
        }
      ],
      "source": [
        "# Filter out rows with 'real' label\n",
        "fake_data = data[data['label'] == 1]\n",
        "\n",
        "# Sample the same number of rows labeled as 'real'\n",
        "real_data = data[data['label'] == 0].sample(n=len(fake_data), random_state=42, replace=True)\n",
        "\n",
        "# Concatenate the balanced data\n",
        "balanced_data = pd.concat([fake_data, real_data])\n",
        "\n",
        "# Shuffle the balanced data\n",
        "balanced_data = balanced_data.sample(frac=1, random_state=42).reset_index(drop=True)\n",
        "\n",
        "# Check the counts of labels in the balanced data\n",
        "print(\"Number of data labels labeled as 'fake' in balanced data:\", (balanced_data['label'] == 1).sum())\n",
        "print(\"Number of data labels labeled as 'real' in balanced data:\", (balanced_data['label'] == 0).sum())\n",
        "\n",
        "\n"
      ]
    },
    {
      "cell_type": "code",
      "execution_count": 41,
      "metadata": {
        "colab": {
          "base_uri": "https://localhost:8080/"
        },
        "id": "4iEBvZrJzfgh",
        "outputId": "0b2931f1-e35a-4783-f554-1fe007842b9c"
      },
      "outputs": [
        {
          "name": "stdout",
          "output_type": "stream",
          "text": [
            "Accuracy: 0.8301158301158301\n",
            "Precision: 0.8257575757575758\n",
            "Recall: 0.8384615384615385\n",
            "F1 Score: 0.8320610687022901\n",
            "Confusion Matrix:\n",
            " [[106  23]\n",
            " [ 21 109]]\n",
            "ROC AUC Score: 0.8300834824090638\n"
          ]
        }
      ],
      "source": [
        "import pandas as pd\n",
        "from sklearn.feature_extraction.text import TfidfVectorizer\n",
        "from sklearn.model_selection import train_test_split\n",
        "from sklearn.linear_model import LogisticRegression\n",
        "from sklearn.metrics import accuracy_score, precision_score, recall_score, f1_score, confusion_matrix, roc_curve, roc_auc_score\n",
        "from sklearn.pipeline import Pipeline\n",
        "from sklearn.preprocessing import LabelEncoder\n",
        "\n",
        "missing_data = data[[\"text\",\"label\"]].isnull().any(axis=1)\n",
        "if missing_data.any():\n",
        "  print(\"Missing Values Found in the Dataset. Handle Missing Data Before Proceeding\")\n",
        "else:\n",
        "  le = LabelEncoder()\n",
        "  balanced_data[\"label\"] = le.fit_transform(balanced_data[\"label\"])\n",
        "  X = balanced_data[\"text\"]\n",
        "  y = balanced_data[\"label\"]\n",
        "  X_train, X_test, y_train, y_test = train_test_split(X,y,test_size=0.1,random_state=20)\n",
        "  text_feature_extraction = TfidfVectorizer(max_features=5000,stop_words=\"english\")\n",
        "  model = LogisticRegression()\n",
        "  pipeline = Pipeline([\n",
        "      ('tfidf',text_feature_extraction),\n",
        "      ('model',model)\n",
        "  ])\n",
        "  pipeline.fit(X_train,y_train)\n",
        "  y_pred = pipeline.predict(X_test)\n",
        "  accuracy = accuracy_score(y_test,y_pred)\n",
        "\n",
        "  #Evaluate\n",
        "  # Calculate evaluation metrics\n",
        "  accuracy = accuracy_score(y_test, y_pred)\n",
        "  precision = precision_score(y_test, y_pred)\n",
        "  recall = recall_score(y_test, y_pred)\n",
        "  f1 = f1_score(y_test, y_pred)\n",
        "  conf_matrix = confusion_matrix(y_test, y_pred)\n",
        "  roc_auc = roc_auc_score(y_test, y_pred)\n",
        "  fpr, tpr, thresholds = roc_curve(y_test, y_pred)\n",
        "\n",
        "  # Print evaluation metrics\n",
        "  print(\"Accuracy:\", accuracy)\n",
        "  print(\"Precision:\", precision)\n",
        "  print(\"Recall:\", recall)\n",
        "  print(\"F1 Score:\", f1)\n",
        "  print(\"Confusion Matrix:\\n\", conf_matrix)\n",
        "  print(\"ROC AUC Score:\", roc_auc)\n",
        "\n",
        "  "
      ]
    },
    {
      "cell_type": "markdown",
      "metadata": {},
      "source": [
        "Hyperparamter Tuning"
      ]
    },
    {
      "cell_type": "code",
      "execution_count": 42,
      "metadata": {},
      "outputs": [
        {
          "name": "stdout",
          "output_type": "stream",
          "text": [
            "Best Parameters: {'model__C': 10, 'tfidf__max_features': 10000}\n",
            "Accuracy: 0.8648648648648649\n",
            "Precision: 0.8925619834710744\n",
            "Recall: 0.8307692307692308\n",
            "F1 Score: 0.8605577689243028\n",
            "Confusion Matrix:\n",
            " [[116  13]\n",
            " [ 22 108]]\n",
            "ROC AUC Score: 0.8649970184853907\n"
          ]
        }
      ],
      "source": [
        "import pandas as pd\n",
        "from sklearn.feature_extraction.text import TfidfVectorizer\n",
        "from sklearn.model_selection import train_test_split, GridSearchCV\n",
        "from sklearn.linear_model import LogisticRegression\n",
        "from sklearn.metrics import accuracy_score, precision_score, recall_score, f1_score, confusion_matrix, roc_curve, roc_auc_score\n",
        "from sklearn.pipeline import Pipeline\n",
        "from sklearn.preprocessing import LabelEncoder\n",
        "\n",
        "# Assuming balanced_data is defined somewhere in your code\n",
        "X = balanced_data[\"text\"]\n",
        "y = balanced_data[\"label\"]\n",
        "X_train, X_test, y_train, y_test = train_test_split(X, y, test_size=0.1, random_state=20)\n",
        "\n",
        "# Define the pipeline with TF-IDF vectorizer and logistic regression\n",
        "pipeline = Pipeline([\n",
        "    ('tfidf', TfidfVectorizer(stop_words=\"english\")),\n",
        "    ('model', LogisticRegression())\n",
        "])\n",
        "\n",
        "# Define the grid of hyperparameters to search\n",
        "param_grid = {\n",
        "    'tfidf__max_features': range(1000, 11000, 1000),\n",
        "    'model__C': [0.1, 1, 10]\n",
        "}\n",
        "\n",
        "# Perform grid search with 5-fold cross-validation\n",
        "grid_search = GridSearchCV(pipeline, param_grid, cv=5, scoring='accuracy')\n",
        "grid_search.fit(X_train, y_train)\n",
        "\n",
        "# Get the best parameters and best estimator\n",
        "best_params = grid_search.best_params_\n",
        "best_estimator = grid_search.best_estimator_\n",
        "\n",
        "# Use the best estimator to make predictions\n",
        "y_pred = best_estimator.predict(X_test)\n",
        "\n",
        "# Evaluate the performance of the tuned model\n",
        "accuracy = accuracy_score(y_test, y_pred)\n",
        "precision = precision_score(y_test, y_pred)\n",
        "recall = recall_score(y_test, y_pred)\n",
        "f1 = f1_score(y_test, y_pred)\n",
        "conf_matrix = confusion_matrix(y_test, y_pred)\n",
        "roc_auc = roc_auc_score(y_test, y_pred)\n",
        "fpr, tpr, thresholds = roc_curve(y_test, y_pred)\n",
        "\n",
        "# Print evaluation metrics\n",
        "print(\"Best Parameters:\", best_params)\n",
        "print(\"Accuracy:\", accuracy)\n",
        "print(\"Precision:\", precision)\n",
        "print(\"Recall:\", recall)\n",
        "print(\"F1 Score:\", f1)\n",
        "print(\"Confusion Matrix:\\n\", conf_matrix)\n",
        "print(\"ROC AUC Score:\", roc_auc)\n"
      ]
    },
    {
      "cell_type": "markdown",
      "metadata": {},
      "source": [
        "Evaluate the logistic regression model"
      ]
    },
    {
      "cell_type": "code",
      "execution_count": 43,
      "metadata": {},
      "outputs": [],
      "source": [
        "def fakenewsprediction(text):\n",
        "    input_data = [text]\n",
        "    prediction = best_estimator.predict(input_data)\n",
        "    if prediction[0] == 0:\n",
        "        return \"Real News\"\n",
        "    else:\n",
        "        return \"Fake News\""
      ]
    },
    {
      "cell_type": "code",
      "execution_count": 53,
      "metadata": {},
      "outputs": [
        {
          "name": "stdout",
          "output_type": "stream",
          "text": [
            "Prediction: Fake News\n"
          ]
        }
      ],
      "source": [
        "import re\n",
        "\n",
        "article_input = \"\"\"Bitcoin has started the week with a surge, dragging the rest of the cryptocurrency space higher with it. Late last week Bitcoin tried and failed to make a fresh all-time Bitcoin demand remains high, but this morning a new ATH was achieved with ease as buyers took control of the market. Bitcoin demand remains highs, driven primarily by the new ETF providers, while new supply is limited. The supply side of the equation will soon get tighter when the Bitcoin halving event takes place in mid-April. News also out earlier that the LSE plans to accept applications for Bitcoin and Ethereum ETNs in Q2 may have also helped today’s push higher.\"\"\"\n",
        "prediction = fakenewsprediction(article_input.replace('\\n', ' '))\n",
        "print(f\"Prediction: {prediction}\")"
      ]
    },
    {
      "cell_type": "markdown",
      "metadata": {
        "id": "OG6L4kZK0ml7"
      },
      "source": [
        "# Detecting Fake News with Random Forest"
      ]
    },
    {
      "cell_type": "code",
      "execution_count": null,
      "metadata": {
        "colab": {
          "base_uri": "https://localhost:8080/"
        },
        "id": "4a483Ua40wKv",
        "outputId": "750d5c1f-b48f-44db-c60f-7333c197d8da"
      },
      "outputs": [],
      "source": [
        "import pandas as pd\n",
        "from sklearn.feature_extraction.text import TfidfVectorizer\n",
        "from sklearn.ensemble import RandomForestClassifier\n",
        "from sklearn.preprocessing import LabelEncoder\n",
        "\n",
        "X = data[\"title\"]\n",
        "y = data[\"label\"]\n",
        "\n",
        "tfidf_vectorizer = TfidfVectorizer(max_features=5000,stop_words=\"english\")\n",
        "X_tfidf = tfidf_vectorizer.fit_transform(X)\n",
        "\n",
        "label_encoder = LabelEncoder()\n",
        "y_encoded = label_encoder.fit_transform(y)\n",
        "\n",
        "random_forest_classifier = RandomForestClassifier(n_estimators=100, random_state=42)\n",
        "random_forest_classifier.fit(X_tfidf,y_encoded)\n",
        "\n",
        "def fakenewsprediction(title):\n",
        "  title_tfidf = tfidf_vectorizer.transform([title])\n",
        "  prediction = random_forest_classifier.predict(title_tfidf)\n",
        "  predicted_label = label_encoder.inverse_transform(prediction)\n",
        "  return predicted_label[0]\n",
        "\n",
        "title_input = \"Few reasons for optimism after Antony Blinken's diplomatic dash\"\n",
        "prediction = fakenewsprediction(title_input)\n",
        "print(f\"Prediction: {prediction}\")"
      ]
    },
    {
      "cell_type": "markdown",
      "metadata": {
        "id": "vQymbUQK01eE"
      },
      "source": [
        "# Evaluate modeedl with confusion matrix"
      ]
    },
    {
      "cell_type": "code",
      "execution_count": null,
      "metadata": {
        "colab": {
          "base_uri": "https://localhost:8080/"
        },
        "id": "faCuXeWT06Vm",
        "outputId": "f419223b-6309-459d-a48c-bb29b114a5e1"
      },
      "outputs": [],
      "source": [
        "import pandas as pd\n",
        "from sklearn.metrics import confusion_matrix\n",
        "from sklearn.model_selection import train_test_split\n",
        "from sklearn.ensemble import RandomForestClassifier\n",
        "from sklearn.preprocessing import LabelEncoder\n",
        "from sklearn.feature_extraction.text import TfidfVectorizer\n",
        "\n",
        "X = data[\"title\"]\n",
        "y = data[\"label\"]\n",
        "\n",
        "tfidf_vectorizer = TfidfVectorizer(max_features=5000,stop_words=\"english\")\n",
        "X_tfidf = tfidf_vectorizer.fit_transform(X)\n",
        "\n",
        "label_encoder = LabelEncoder()\n",
        "y_encoded = label_encoder.fit_transform(y)\n",
        "\n",
        "X_train, X_test, y_train, y_test = train_test_split(X_tfidf,y_encoded,test_size=0.2,random_state=42)\n",
        "\n",
        "random_forest_classifier = RandomForestClassifier(n_estimators=100, random_state=42)\n",
        "random_forest_classifier.fit(X_train,y_train)\n",
        "\n",
        "y_pred = random_forest_classifier.predict(X_test)\n",
        "\n",
        "cm = confusion_matrix(y_test,y_pred)\n",
        "\n",
        "print(\"Confusion Matrix:\")\n",
        "print(cm)"
      ]
    },
    {
      "cell_type": "markdown",
      "metadata": {
        "id": "bkbX166A1CUb"
      },
      "source": [
        "# Performing Audit"
      ]
    },
    {
      "cell_type": "code",
      "execution_count": null,
      "metadata": {
        "colab": {
          "base_uri": "https://localhost:8080/",
          "height": 383
        },
        "id": "PBA-VV4i1GUZ",
        "outputId": "bd5c4e3a-bcf8-4aa4-c1a7-9b06d85adbef"
      },
      "outputs": [],
      "source": [
        "import pandas as pd\n",
        "from sklearn.model_selection import train_test_split\n",
        "from sklearn.feature_extraction.text import TfidfVectorizer\n",
        "from sklearn.ensemble import RandomForestClassifier\n",
        "from sklearn.preprocessing import LabelEncoder\n",
        "\n",
        "X = data[\"title\"]\n",
        "y = data[\"label\"]\n",
        "tfidf_vectorizer = TfidfVectorizer(max_features=5000,stop_words=\"english\")\n",
        "X_tfidf = tfidf_vectorizer.fit_transform(X)\n",
        "label_encoder = LabelEncoder()\n",
        "y_encoded = label_encoder.fit_transform(y)\n",
        "X_train, X_test, y_train, y_test = train_test_split(X_tfidf,y_encoded,test_size=0.2,random_state=42)\n",
        "random_forest_classifier = RandomForestClassifier(n_estimators=100, random_state=42)\n",
        "random_forest_classifier.fit(X_train,y_train)\n",
        "y_pred = random_forest_classifier.predict(X_test)\n",
        "\n",
        "def demographic_parity_difference(y_true,y_pred):\n",
        "  group1_indices = [i for i,y in enumerate(y_true) if y == 0]\n",
        "  group2_indices = [i for i,y in enumerate(y_true) if y == 1]\n",
        "  group1_positive_rate = sum(1 for i in group1_indices if y_pred[i] == 1)/len(group1_indices)\n",
        "  group2_positive_rate = sum(1 for i in group2_indices if y_pred[i] == 1)/len(group2_indices)\n",
        "  dp_diff = abs(group1_positive_rate - group2_positive_rate)\n",
        "  return dp_diff\n",
        "\n",
        "dp_diff = demographic_parity_difference(y_test,y_pred)\n",
        "print(f\"Demographic Parity Difference: {dp_diff:.4f}\")"
      ]
    }
  ],
  "metadata": {
    "colab": {
      "collapsed_sections": [
        "7Tb83sLfPIOj",
        "6K58nCcaVZQR",
        "qGBZkOhqkWsO",
        "X3OJurIalGvP",
        "CEFqeI-GmKJw",
        "Q-XzT-p5r2Qq",
        "IfR5KXgIzbwA",
        "OG6L4kZK0ml7",
        "vQymbUQK01eE",
        "bkbX166A1CUb"
      ],
      "provenance": [],
      "toc_visible": true
    },
    "kernelspec": {
      "display_name": "Python 3",
      "name": "python3"
    },
    "language_info": {
      "codemirror_mode": {
        "name": "ipython",
        "version": 3
      },
      "file_extension": ".py",
      "mimetype": "text/x-python",
      "name": "python",
      "nbconvert_exporter": "python",
      "pygments_lexer": "ipython3",
      "version": "3.11.5"
    }
  },
  "nbformat": 4,
  "nbformat_minor": 0
}
